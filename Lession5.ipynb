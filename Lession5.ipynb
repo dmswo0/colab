{
  "nbformat": 4,
  "nbformat_minor": 0,
  "metadata": {
    "colab": {
      "provenance": [],
      "authorship_tag": "ABX9TyMa112klRHrinzkIUup+JeS",
      "include_colab_link": true
    },
    "kernelspec": {
      "name": "python3",
      "display_name": "Python 3"
    },
    "language_info": {
      "name": "python"
    }
  },
  "cells": [
    {
      "cell_type": "markdown",
      "metadata": {
        "id": "view-in-github",
        "colab_type": "text"
      },
      "source": [
        "<a href=\"https://colab.research.google.com/github/dmswo0/colab/blob/main/Lession5.ipynb\" target=\"_parent\"><img src=\"https://colab.research.google.com/assets/colab-badge.svg\" alt=\"Open In Colab\"/></a>"
      ]
    },
    {
      "cell_type": "markdown",
      "source": [
        "if문 예제"
      ],
      "metadata": {
        "id": "p9c9f7_60IDS"
      }
    },
    {
      "cell_type": "code",
      "execution_count": 1,
      "metadata": {
        "colab": {
          "base_uri": "https://localhost:8080/"
        },
        "id": "-XnKoDUOz7KH",
        "outputId": "1defb78d-64d6-4473-da72-143a515e7bbe"
      },
      "outputs": [
        {
          "output_type": "stream",
          "name": "stdout",
          "text": [
            "100보다 작습니다. \n"
          ]
        }
      ],
      "source": [
        "num = 99\n",
        "if num < 100 :\n",
        "  print(\"100보다 작습니다. \")"
      ]
    },
    {
      "cell_type": "markdown",
      "source": [
        "(2) if문 예제"
      ],
      "metadata": {
        "id": "AWbn1ANI3Xlb"
      }
    },
    {
      "cell_type": "code",
      "source": [
        "num = 200\n",
        "if num > 100 :\n",
        "    print(\"100보다 \")\n",
        "    print(\"큽니다.\")\n",
        "    print(\"프로그램 끝\")"
      ],
      "metadata": {
        "colab": {
          "base_uri": "https://localhost:8080/"
        },
        "id": "pGXXRRH13ciM",
        "outputId": "29c7f557-8efc-4f51-f23f-99210a3f5a56"
      },
      "execution_count": 2,
      "outputs": [
        {
          "output_type": "stream",
          "name": "stdout",
          "text": [
            "100보다 \n",
            "큽니다.\n",
            "프로그램 끝\n"
          ]
        }
      ]
    },
    {
      "cell_type": "markdown",
      "source": [
        "if~else문 예제"
      ],
      "metadata": {
        "id": "geW2GgAe4sL2"
      }
    },
    {
      "cell_type": "code",
      "source": [
        "num = 200\n",
        "if num < 100 :\n",
        "    print(\"100보다 작군요.\")\n",
        "else :\n",
        "    print(\"100보다 크군요.\")"
      ],
      "metadata": {
        "colab": {
          "base_uri": "https://localhost:8080/"
        },
        "id": "wuUG9ctc4yoG",
        "outputId": "98fdeca3-34df-4f0f-9352-56728675da35"
      },
      "execution_count": 3,
      "outputs": [
        {
          "output_type": "stream",
          "name": "stdout",
          "text": [
            "100보다 크군요.\n"
          ]
        }
      ]
    },
    {
      "cell_type": "code",
      "source": [
        "num = int(input(\"정수를 입력 : \"))\n",
        "if (num % 2) == 0 :\n",
        "  print(num, \"짝수입니다.\")\n",
        "else :\n",
        "  print(num, \"홀수입니다.\")"
      ],
      "metadata": {
        "colab": {
          "base_uri": "https://localhost:8080/"
        },
        "id": "uxtQPUeg5hF-",
        "outputId": "985ac185-31a7-45cc-82d1-f0eeedc8945d"
      },
      "execution_count": 4,
      "outputs": [
        {
          "output_type": "stream",
          "name": "stdout",
          "text": [
            "정수를 입력 : 10\n",
            "10 짝수입니다.\n"
          ]
        }
      ]
    },
    {
      "cell_type": "markdown",
      "source": [
        "형성평가 - 1"
      ],
      "metadata": {
        "id": "SgmRjxPS7I1f"
      }
    },
    {
      "cell_type": "code",
      "source": [
        "num = int(input(\"숫자를 입력 ==> \"))\n",
        "\n",
        "if num > 100 :\n",
        "  if num < 1000 :\n",
        "    print(\"100보다 크고 1000보다 작군요.\")\n",
        "  else :\n",
        "    print(\"와~ 1000보다 크군요.\")\n",
        "else :\n",
        "  print(\"음~ 100보다 작군요.\")"
      ],
      "metadata": {
        "colab": {
          "base_uri": "https://localhost:8080/"
        },
        "id": "VgnKnOE-6wNq",
        "outputId": "5479d3f3-26fe-476a-f7bd-8a5d2e98cc73"
      },
      "execution_count": 5,
      "outputs": [
        {
          "output_type": "stream",
          "name": "stdout",
          "text": [
            "숫자를 입력 ==> 500\n",
            "100보다 크고 1000보다 작군요.\n"
          ]
        }
      ]
    },
    {
      "cell_type": "markdown",
      "source": [
        "형성평가 - 2"
      ],
      "metadata": {
        "id": "jjaSwnejANot"
      }
    },
    {
      "cell_type": "code",
      "source": [
        "score = int(input(\"점수를 입력 ==> \"))\n",
        "\n",
        "if score >= 90 :\n",
        "    print(\"A\", end='')\n",
        "else :\n",
        "  if score >= 80 :\n",
        "      print(\"B\", end='')\n",
        "  else :\n",
        "      if score >= 70 :\n",
        "          print(\"C\", end='')\n",
        "      else :\n",
        "          if score >= 60 :\n",
        "              print(\"D\", end='')\n",
        "          else :\n",
        "              print(\"F\", end='')\n",
        "print(\"학점입니다.\")"
      ],
      "metadata": {
        "colab": {
          "base_uri": "https://localhost:8080/"
        },
        "id": "xmt1n3d0AQRc",
        "outputId": "8d3c32a0-2e33-4ad8-d5ec-9b95240c168a"
      },
      "execution_count": 8,
      "outputs": [
        {
          "output_type": "stream",
          "name": "stdout",
          "text": [
            "점수를 입력 ==> 100\n",
            "A학점입니다.\n"
          ]
        }
      ]
    },
    {
      "cell_type": "code",
      "source": [
        "score = int(input(\"점수를 입력 ==> \"))\n",
        "\n",
        "if score >= 90 :\n",
        "    print(\"A\", end='')\n",
        "elif score >= 80 :\n",
        "    print(\"B\", end='')\n",
        "elif score >= 70 :\n",
        "    print(\"C\", end='')\n",
        "elif score >= 60 :\n",
        "    print(\"D\", end='')\n",
        "else :\n",
        "    print(\"F\", end='')\n",
        "    print(\"학점입니다.\")"
      ],
      "metadata": {
        "colab": {
          "base_uri": "https://localhost:8080/"
        },
        "id": "hFX2CpBVDM5_",
        "outputId": "75961d00-edda-4193-e894-722ed47d48ae"
      },
      "execution_count": 9,
      "outputs": [
        {
          "output_type": "stream",
          "name": "stdout",
          "text": [
            "점수를 입력 ==> 200\n",
            "A"
          ]
        }
      ]
    },
    {
      "cell_type": "code",
      "source": [
        "import random\n",
        "\n",
        "rnd = random.randint(1,45)\n",
        "lunch = random.choice([\"짜장면\", \"라면\", \"김밥\", \"짬뽕\"])\n",
        "print(rnd, lunch)"
      ],
      "metadata": {
        "colab": {
          "base_uri": "https://localhost:8080/"
        },
        "id": "vbZ_OnVqFk45",
        "outputId": "6662c60f-bf9c-468e-8608-18210af705fd"
      },
      "execution_count": 12,
      "outputs": [
        {
          "output_type": "stream",
          "name": "stdout",
          "text": [
            "26 라면\n"
          ]
        }
      ]
    },
    {
      "cell_type": "markdown",
      "source": [
        "가위 바위 보 게임"
      ],
      "metadata": {
        "id": "qCElRsbPGpWH"
      }
    },
    {
      "cell_type": "code",
      "source": [
        "import random\n",
        "com_player = ramdom.choice([\"가위\", \"바위\", \"보\"])\n",
        "print(\" ** [가위/바위/보] 게임 **\")\n",
        "user = input(\"가위/바위/보 중 하나를 입력 : \")\n",
        "\n",
        "if com_player == user :\n",
        "  print(\"비겼다. ^^??\")\n",
        "elif\n",
        "\n",
        "else :\n",
        "  print(\"졌다. ㅜ.ㅜ\")"
      ],
      "metadata": {
        "id": "obunLvE7Gr93"
      },
      "execution_count": null,
      "outputs": []
    },
    {
      "cell_type": "code",
      "source": [
        "import random\n",
        "com_player = random.choice([\"가위\", \"바위\", \"보\"])\n",
        "print(\" ** [가위/바위/보] 게임 **\")\n",
        "user = input(\"가위/바위/보 중 하나를 입력 : \")\n",
        "\n",
        "if com_player == user :\n",
        "  print(\"비겼다. ^^??\")\n",
        "elif ((com_player == \"가위\") and (user == \"바위\")) or \\\n",
        "((com_player == \"바위\") and (user == \"보\")) or \\\n",
        "((com_player == \"보\") and (user == \"가위\")):\n",
        "  print(\"이겼다.\")\n",
        "else :\n",
        "  print(\"졌다. ㅜ.ㅜ\")"
      ],
      "metadata": {
        "colab": {
          "base_uri": "https://localhost:8080/"
        },
        "id": "vh2CGkeKY9Mz",
        "outputId": "60990ef4-c23e-4132-dc0c-23a2ea40837a"
      },
      "execution_count": 13,
      "outputs": [
        {
          "output_type": "stream",
          "name": "stdout",
          "text": [
            " ** [가위/바위/보] 게임 **\n",
            "가위/바위/보 중 하나를 입력 : 바위\n",
            "졌다. ㅜ.ㅜ\n"
          ]
        }
      ]
    },
    {
      "cell_type": "code",
      "source": [
        "import random\n",
        "com_plyaer , user , count = \"\", \"\", 1\n",
        "com_count ,usr_count , draw_count = 0, 0, 0\n",
        "\n",
        "def result() :\n",
        "  global com_count, usr_count, draw_count\n",
        "  if com_player == user :\n",
        "    print(count, \"번째 : \" + \"비겼다. ^^??\")\n",
        "    draw_count += 1\n",
        "  elif ((com_player == \"가위\") and (user == \"바위\")) or \\\n",
        "  ((com_player == \"바위\") and (user == \"보\")) or \\\n",
        "  ((com_player == \"보\") and (user == \"가위\")) :\n",
        "    print(count, \"번째 : \" + \"이겼다.\")\n",
        "    usr_count += 1\n",
        "  else :\n",
        "    print(count, \"번째 : \" + \"졌다. ㅜ.ㅜ\")\n",
        "    com_count += 1\n",
        "\n",
        "print(\" ** [가위/바위/보] 게임 **\")\n",
        "\n",
        "while count != 8 :\n",
        "  com_player = random.choice([\"가위\", \"바위\", \"보\"])\n",
        "  user = input(\"가위/바위/보 중 하나를 입력 : \")\n",
        "  result()\n",
        "  count = count + 1\n",
        "\n",
        "print(\"====== 최종 스코어 ======\")\n",
        "print(\"컴퓨터 : \", com_count)\n",
        "print(\"사용자 : \", usr_count)\n",
        "print(\"비김 : \", draw_count)"
      ],
      "metadata": {
        "colab": {
          "base_uri": "https://localhost:8080/"
        },
        "id": "PC6oo_TQeHS4",
        "outputId": "3fee8836-99f6-48f8-cf5e-fe5d04b09a2e"
      },
      "execution_count": 15,
      "outputs": [
        {
          "output_type": "stream",
          "name": "stdout",
          "text": [
            " ** [가위/바위/보] 게임 **\n",
            "가위/바위/보 중 하나를 입력 : 가위\n",
            "1 번째 : 이겼다.\n",
            "가위/바위/보 중 하나를 입력 : 바위\n",
            "2 번째 : 이겼다.\n",
            "가위/바위/보 중 하나를 입력 : 보\n",
            "3 번째 : 졌다. ㅜ.ㅜ\n",
            "가위/바위/보 중 하나를 입력 : 보\n",
            "4 번째 : 졌다. ㅜ.ㅜ\n",
            "가위/바위/보 중 하나를 입력 : 보\n",
            "5 번째 : 이겼다.\n",
            "가위/바위/보 중 하나를 입력 : 보\n",
            "6 번째 : 졌다. ㅜ.ㅜ\n",
            "가위/바위/보 중 하나를 입력 : 보\n",
            "7 번째 : 졌다. ㅜ.ㅜ\n",
            "====== 최종 스코어 ======\n",
            "컴퓨터 :  4\n",
            "사용자 :  3\n",
            "비김 :  0\n"
          ]
        }
      ]
    },
    {
      "cell_type": "markdown",
      "source": [
        "형성평가:pc방 나이 제한 검사하기"
      ],
      "metadata": {
        "id": "xQjFVL7-heij"
      }
    },
    {
      "cell_type": "code",
      "source": [
        "age = int(input(\"나이를 입력 ==> \"))\n",
        "\n",
        "if age >= 18 :\n",
        "    print(\"즐거운 시간 되세요 ^^\")\n",
        "else :\n",
        "    print(\"집에 갈 시간이네요!\")\n",
        "print(\"협조 감사합니다.\")"
      ],
      "metadata": {
        "colab": {
          "base_uri": "https://localhost:8080/"
        },
        "id": "IJSKyl2nh51k",
        "outputId": "b78d45a3-3b95-42d0-cf5c-a1e83fd830f8"
      },
      "execution_count": 17,
      "outputs": [
        {
          "output_type": "stream",
          "name": "stdout",
          "text": [
            "나이를 입력 ==> 18\n",
            "즐거운 시간 되세요 ^^\n",
            "협조 감사합니다.\n"
          ]
        }
      ]
    },
    {
      "cell_type": "code",
      "source": [
        "!pip3 install ColabTurtle\n",
        "import ColabTurtle.Turtle as turtle\n",
        "import random\n",
        "turtle.initializeTurtle()\n",
        "print(turtle.DEFAULT_WINDOW_SIZE)\n",
        "while True :\n",
        "  turtle.left(random.randint(0, 360))\n",
        "  turtle.forward(random.randint(100,200))\n",
        "  print(turtle.getx(), turtle.gety())\n",
        "  if turtle.getx() > 800 or turtle.gety() > 500 :\n",
        "    print(\"가출\")\n",
        "    break"
      ],
      "metadata": {
        "colab": {
          "base_uri": "https://localhost:8080/",
          "height": 1000
        },
        "id": "liq0afRrqDGF",
        "outputId": "041e2bf5-31c8-4b13-e217-7103022d31c7"
      },
      "execution_count": 19,
      "outputs": [
        {
          "output_type": "stream",
          "name": "stdout",
          "text": [
            "Looking in indexes: https://pypi.org/simple, https://us-python.pkg.dev/colab-wheels/public/simple/\n",
            "Requirement already satisfied: ColabTurtle in /usr/local/lib/python3.7/dist-packages (2.1.0)\n"
          ]
        },
        {
          "output_type": "display_data",
          "data": {
            "text/plain": [
              "<IPython.core.display.HTML object>"
            ],
            "text/html": [
              "\n",
              "      <svg width=\"800\" height=\"500\">\n",
              "        <rect width=\"100%\" height=\"100%\" fill=\"black\"/>\n",
              "        <line x1=\"400\" y1=\"250\" x2=\"560.729\" y2=\"197.776\" stroke-linecap=\"round\" style=\"stroke:white;stroke-width:4\"/><line x1=\"560.729\" y1=\"197.776\" x2=\"492.781\" y2=\"58.463\" stroke-linecap=\"round\" style=\"stroke:white;stroke-width:4\"/><line x1=\"492.781\" y1=\"58.463\" x2=\"437.383\" y2=\"-45.725\" stroke-linecap=\"round\" style=\"stroke:white;stroke-width:4\"/><line x1=\"437.383\" y1=\"-45.725\" x2=\"330.683\" y2=\"-15.129\" stroke-linecap=\"round\" style=\"stroke:white;stroke-width:4\"/><line x1=\"330.683\" y1=\"-15.129\" x2=\"256.067\" y2=\"99.769\" stroke-linecap=\"round\" style=\"stroke:white;stroke-width:4\"/><line x1=\"256.067\" y1=\"99.769\" x2=\"164.652\" y2=\"40.403\" stroke-linecap=\"round\" style=\"stroke:white;stroke-width:4\"/><line x1=\"164.652\" y1=\"40.403\" x2=\"46.087\" y2=\"85.916\" stroke-linecap=\"round\" style=\"stroke:white;stroke-width:4\"/><line x1=\"46.087\" y1=\"85.916\" x2=\"-74.199\" y2=\"147.205\" stroke-linecap=\"round\" style=\"stroke:white;stroke-width:4\"/><line x1=\"-74.199\" y1=\"147.205\" x2=\"-43.233\" y2=\"271.403\" stroke-linecap=\"round\" style=\"stroke:white;stroke-width:4\"/><line x1=\"-43.233\" y1=\"271.403\" x2=\"-133.743\" y2=\"180.893\" stroke-linecap=\"round\" style=\"stroke:white;stroke-width:4\"/><line x1=\"-133.743\" y1=\"180.893\" x2=\"-39.191\" y2=\"148.336\" stroke-linecap=\"round\" style=\"stroke:white;stroke-width:4\"/><line x1=\"-39.191\" y1=\"148.336\" x2=\"-5.332\" y2=\"246.67\" stroke-linecap=\"round\" style=\"stroke:white;stroke-width:4\"/><line x1=\"-5.332\" y1=\"246.67\" x2=\"27.102\" y2=\"94.079\" stroke-linecap=\"round\" style=\"stroke:white;stroke-width:4\"/><line x1=\"27.102\" y1=\"94.079\" x2=\"-128.665\" y2=\"157.013\" stroke-linecap=\"round\" style=\"stroke:white;stroke-width:4\"/><line x1=\"-128.665\" y1=\"157.013\" x2=\"-18.342\" y2=\"121.167\" stroke-linecap=\"round\" style=\"stroke:white;stroke-width:4\"/><line x1=\"-18.342\" y1=\"121.167\" x2=\"2.322\" y2=\"238.359\" stroke-linecap=\"round\" style=\"stroke:white;stroke-width:4\"/><line x1=\"2.322\" y1=\"238.359\" x2=\"15.806\" y2=\"110.066\" stroke-linecap=\"round\" style=\"stroke:white;stroke-width:4\"/><line x1=\"15.806\" y1=\"110.066\" x2=\"72.853\" y2=\"-24.328\" stroke-linecap=\"round\" style=\"stroke:white;stroke-width:4\"/><line x1=\"72.853\" y1=\"-24.328\" x2=\"6.173\" y2=\"-189.367\" stroke-linecap=\"round\" style=\"stroke:white;stroke-width:4\"/><line x1=\"6.173\" y1=\"-189.367\" x2=\"116.117\" y2=\"-229.383\" stroke-linecap=\"round\" style=\"stroke:white;stroke-width:4\"/><line x1=\"116.117\" y1=\"-229.383\" x2=\"122.399\" y2=\"-49.493\" stroke-linecap=\"round\" style=\"stroke:white;stroke-width:4\"/><line x1=\"122.399\" y1=\"-49.493\" x2=\"-25.448\" y2=\"-173.551\" stroke-linecap=\"round\" style=\"stroke:white;stroke-width:4\"/><line x1=\"-25.448\" y1=\"-173.551\" x2=\"143.195\" y2=\"-263.22\" stroke-linecap=\"round\" style=\"stroke:white;stroke-width:4\"/><line x1=\"143.195\" y1=\"-263.22\" x2=\"252.728\" y2=\"-348.797\" stroke-linecap=\"round\" style=\"stroke:white;stroke-width:4\"/><line x1=\"252.728\" y1=\"-348.797\" x2=\"344.647\" y2=\"-239.253\" stroke-linecap=\"round\" style=\"stroke:white;stroke-width:4\"/><line x1=\"344.647\" y1=\"-239.253\" x2=\"181.093\" y2=\"-329.912\" stroke-linecap=\"round\" style=\"stroke:white;stroke-width:4\"/><line x1=\"181.093\" y1=\"-329.912\" x2=\"140.55\" y2=\"-139.173\" stroke-linecap=\"round\" style=\"stroke:white;stroke-width:4\"/><line x1=\"140.55\" y1=\"-139.173\" x2=\"275.534\" y2=\"-167.865\" stroke-linecap=\"round\" style=\"stroke:white;stroke-width:4\"/><line x1=\"275.534\" y1=\"-167.865\" x2=\"143.184\" y2=\"-188.827\" stroke-linecap=\"round\" style=\"stroke:white;stroke-width:4\"/><line x1=\"143.184\" y1=\"-188.827\" x2=\"252.227\" y2=\"-27.165\" stroke-linecap=\"round\" style=\"stroke:white;stroke-width:4\"/><line x1=\"252.227\" y1=\"-27.165\" x2=\"380.443\" y2=\"-164.659\" stroke-linecap=\"round\" style=\"stroke:white;stroke-width:4\"/><line x1=\"380.443\" y1=\"-164.659\" x2=\"430.195\" y2=\"-11.539\" stroke-linecap=\"round\" style=\"stroke:white;stroke-width:4\"/><line x1=\"430.195\" y1=\"-11.539\" x2=\"603.578\" y2=\"58.512\" stroke-linecap=\"round\" style=\"stroke:white;stroke-width:4\"/><line x1=\"603.578\" y1=\"58.512\" x2=\"670.024\" y2=\"160.83\" stroke-linecap=\"round\" style=\"stroke:white;stroke-width:4\"/><line x1=\"670.024\" y1=\"160.83\" x2=\"783.955\" y2=\"164.809\" stroke-linecap=\"round\" style=\"stroke:white;stroke-width:4\"/><line x1=\"783.955\" y1=\"164.809\" x2=\"824.787\" y2=\"63.746\" stroke-linecap=\"round\" style=\"stroke:white;stroke-width:4\"/>\n",
              "        <g visibility=visible transform=\"rotate(382,824.787,63.746) translate(806.787, 45.746)\">\n",
              "<path style=\" stroke:none;fill-rule:evenodd;fill:white;fill-opacity:1;\" d=\"M 18.214844 0.632812 C 16.109375 1.800781 15.011719 4.074219 15.074219 7.132812 L 15.085938 7.652344 L 14.785156 7.496094 C 13.476562 6.824219 11.957031 6.671875 10.40625 7.066406 C 8.46875 7.550781 6.515625 9.15625 4.394531 11.992188 C 3.0625 13.777344 2.679688 14.636719 3.042969 15.027344 L 3.15625 15.152344 L 3.519531 15.152344 C 4.238281 15.152344 4.828125 14.886719 8.1875 13.039062 C 9.386719 12.378906 10.371094 11.839844 10.378906 11.839844 C 10.386719 11.839844 10.355469 11.929688 10.304688 12.035156 C 9.832031 13.09375 9.257812 14.820312 8.96875 16.078125 C 7.914062 20.652344 8.617188 24.53125 11.070312 27.660156 C 11.351562 28.015625 11.363281 27.914062 10.972656 28.382812 C 8.925781 30.84375 7.945312 33.28125 8.238281 35.1875 C 8.289062 35.527344 8.28125 35.523438 8.917969 35.523438 C 10.941406 35.523438 13.074219 34.207031 15.136719 31.6875 C 15.359375 31.417969 15.328125 31.425781 15.5625 31.574219 C 16.292969 32.042969 18.023438 32.964844 18.175781 32.964844 C 18.335938 32.964844 19.941406 32.210938 20.828125 31.71875 C 20.996094 31.625 21.136719 31.554688 21.136719 31.558594 C 21.203125 31.664062 21.898438 32.414062 22.222656 32.730469 C 23.835938 34.300781 25.5625 35.132812 27.582031 35.300781 C 27.90625 35.328125 27.9375 35.308594 28.007812 34.984375 C 28.382812 33.242188 27.625 30.925781 25.863281 28.425781 L 25.542969 27.96875 L 25.699219 27.785156 C 28.945312 23.960938 29.132812 18.699219 26.257812 11.96875 L 26.207031 11.84375 L 27.945312 12.703125 C 31.53125 14.476562 32.316406 14.800781 33.03125 14.800781 C 33.976562 14.800781 33.78125 13.9375 32.472656 12.292969 C 28.519531 7.355469 25.394531 5.925781 21.921875 7.472656 L 21.558594 7.636719 L 21.578125 7.542969 C 21.699219 6.992188 21.761719 5.742188 21.699219 5.164062 C 21.496094 3.296875 20.664062 1.964844 19.003906 0.855469 C 18.480469 0.503906 18.457031 0.5 18.214844 0.632812\"/>\n",
              "</g>\n",
              "      </svg>\n",
              "    "
            ]
          },
          "metadata": {}
        },
        {
          "output_type": "stream",
          "name": "stdout",
          "text": [
            "(800, 500)\n",
            "560.729 197.776\n",
            "492.781 58.463\n",
            "437.383 -45.725\n",
            "330.683 -15.129\n",
            "256.067 99.769\n",
            "164.652 40.403\n",
            "46.087 85.916\n",
            "-74.199 147.205\n",
            "-43.233 271.403\n",
            "-133.743 180.893\n",
            "-39.191 148.336\n",
            "-5.332 246.67\n",
            "27.102 94.079\n",
            "-128.665 157.013\n",
            "-18.342 121.167\n",
            "2.322 238.359\n",
            "15.806 110.066\n",
            "72.853 -24.328\n",
            "6.173 -189.367\n",
            "116.117 -229.383\n",
            "122.399 -49.493\n",
            "-25.448 -173.551\n",
            "143.195 -263.22\n",
            "252.728 -348.797\n",
            "344.647 -239.253\n",
            "181.093 -329.912\n",
            "140.55 -139.173\n",
            "275.534 -167.865\n",
            "143.184 -188.827\n",
            "252.227 -27.165\n",
            "380.443 -164.659\n",
            "430.195 -11.539\n",
            "603.578 58.512\n",
            "670.024 160.83\n",
            "783.955 164.809\n",
            "824.787 63.746\n",
            "가출\n"
          ]
        }
      ]
    },
    {
      "cell_type": "code",
      "source": [
        "!pip3 install ColabTurtle\n",
        "import ColabTurtle.Turtle as turtle\n",
        "import random\n",
        "turtle.initializeTurtle()\n",
        "print(turtle.DEFAULT_WINDOW_SIZE)\n",
        "\n",
        "while True :\n",
        "  turtle.left(random.randint(0, 360))\n",
        "  turtle.forward(random.randint(100,200))\n",
        "  print(turtle.getx(), turtle.gety())\n",
        "  if 750 <= turtle.getx() or turtle.getx() <= 80 or \\\n",
        "    (450 <= turtle.gety() or turtle.gety() <= 50) :\n",
        "\n",
        "    r = random.randint(0,255)\n",
        "    g = random.randint(0,255)\n",
        "    b = random.randint(0,255)\n",
        "    turtle.color( (r,g,b))\n",
        "    turtle.goto(400,250)"
      ],
      "metadata": {
        "colab": {
          "base_uri": "https://localhost:8080/",
          "height": 1000
        },
        "id": "CLLrYYzW0qoV",
        "outputId": "8ad0e116-4e4c-43b9-834f-8aba46765108"
      },
      "execution_count": 26,
      "outputs": [
        {
          "output_type": "stream",
          "name": "stdout",
          "text": [
            "Looking in indexes: https://pypi.org/simple, https://us-python.pkg.dev/colab-wheels/public/simple/\n",
            "Requirement already satisfied: ColabTurtle in /usr/local/lib/python3.7/dist-packages (2.1.0)\n"
          ]
        },
        {
          "output_type": "display_data",
          "data": {
            "text/plain": [
              "<IPython.core.display.HTML object>"
            ],
            "text/html": [
              "\n",
              "      <svg width=\"800\" height=\"500\">\n",
              "        <rect width=\"100%\" height=\"100%\" fill=\"black\"/>\n",
              "        <line x1=\"400\" y1=\"250\" x2=\"420.664\" y2=\"367.192\" stroke-linecap=\"round\" style=\"stroke:white;stroke-width:4\"/><line x1=\"420.664\" y1=\"367.192\" x2=\"563.984\" y2=\"456.748\" stroke-linecap=\"round\" style=\"stroke:white;stroke-width:4\"/><line x1=\"563.984\" y1=\"456.748\" x2=\"400\" y2=\"250\" stroke-linecap=\"round\" style=\"stroke:rgb(43,47,98);stroke-width:4\"/><line x1=\"400\" y1=\"250\" x2=\"536.739\" y2=\"373.12\" stroke-linecap=\"round\" style=\"stroke:rgb(43,47,98);stroke-width:4\"/><line x1=\"536.739\" y1=\"373.12\" x2=\"670.565\" y2=\"224.491\" stroke-linecap=\"round\" style=\"stroke:rgb(43,47,98);stroke-width:4\"/><line x1=\"670.565\" y1=\"224.491\" x2=\"527.935\" y2=\"113.056\" stroke-linecap=\"round\" style=\"stroke:rgb(43,47,98);stroke-width:4\"/><line x1=\"527.935\" y1=\"113.056\" x2=\"532.926\" y2=\"255.969\" stroke-linecap=\"round\" style=\"stroke:rgb(43,47,98);stroke-width:4\"/><line x1=\"532.926\" y1=\"255.969\" x2=\"366.6\" y2=\"316.507\" stroke-linecap=\"round\" style=\"stroke:rgb(43,47,98);stroke-width:4\"/><line x1=\"366.6\" y1=\"316.507\" x2=\"449.959\" y2=\"402.828\" stroke-linecap=\"round\" style=\"stroke:rgb(43,47,98);stroke-width:4\"/><line x1=\"449.959\" y1=\"402.828\" x2=\"530.924\" y2=\"312.907\" stroke-linecap=\"round\" style=\"stroke:rgb(43,47,98);stroke-width:4\"/><line x1=\"530.924\" y1=\"312.907\" x2=\"489.198\" y2=\"198.265\" stroke-linecap=\"round\" style=\"stroke:rgb(43,47,98);stroke-width:4\"/>\n",
              "        <g visibility=visible transform=\"rotate(340,489.198,198.265) translate(471.198, 180.265)\">\n",
              "<path style=\" stroke:none;fill-rule:evenodd;fill:rgb(43,47,98);fill-opacity:1;\" d=\"M 18.214844 0.632812 C 16.109375 1.800781 15.011719 4.074219 15.074219 7.132812 L 15.085938 7.652344 L 14.785156 7.496094 C 13.476562 6.824219 11.957031 6.671875 10.40625 7.066406 C 8.46875 7.550781 6.515625 9.15625 4.394531 11.992188 C 3.0625 13.777344 2.679688 14.636719 3.042969 15.027344 L 3.15625 15.152344 L 3.519531 15.152344 C 4.238281 15.152344 4.828125 14.886719 8.1875 13.039062 C 9.386719 12.378906 10.371094 11.839844 10.378906 11.839844 C 10.386719 11.839844 10.355469 11.929688 10.304688 12.035156 C 9.832031 13.09375 9.257812 14.820312 8.96875 16.078125 C 7.914062 20.652344 8.617188 24.53125 11.070312 27.660156 C 11.351562 28.015625 11.363281 27.914062 10.972656 28.382812 C 8.925781 30.84375 7.945312 33.28125 8.238281 35.1875 C 8.289062 35.527344 8.28125 35.523438 8.917969 35.523438 C 10.941406 35.523438 13.074219 34.207031 15.136719 31.6875 C 15.359375 31.417969 15.328125 31.425781 15.5625 31.574219 C 16.292969 32.042969 18.023438 32.964844 18.175781 32.964844 C 18.335938 32.964844 19.941406 32.210938 20.828125 31.71875 C 20.996094 31.625 21.136719 31.554688 21.136719 31.558594 C 21.203125 31.664062 21.898438 32.414062 22.222656 32.730469 C 23.835938 34.300781 25.5625 35.132812 27.582031 35.300781 C 27.90625 35.328125 27.9375 35.308594 28.007812 34.984375 C 28.382812 33.242188 27.625 30.925781 25.863281 28.425781 L 25.542969 27.96875 L 25.699219 27.785156 C 28.945312 23.960938 29.132812 18.699219 26.257812 11.96875 L 26.207031 11.84375 L 27.945312 12.703125 C 31.53125 14.476562 32.316406 14.800781 33.03125 14.800781 C 33.976562 14.800781 33.78125 13.9375 32.472656 12.292969 C 28.519531 7.355469 25.394531 5.925781 21.921875 7.472656 L 21.558594 7.636719 L 21.578125 7.542969 C 21.699219 6.992188 21.761719 5.742188 21.699219 5.164062 C 21.496094 3.296875 20.664062 1.964844 19.003906 0.855469 C 18.480469 0.503906 18.457031 0.5 18.214844 0.632812\"/>\n",
              "</g>\n",
              "      </svg>\n",
              "    "
            ]
          },
          "metadata": {}
        },
        {
          "output_type": "stream",
          "name": "stdout",
          "text": [
            "(800, 500)\n",
            "420.664 367.192\n",
            "563.984 456.748\n",
            "536.739 373.12\n",
            "670.565 224.491\n",
            "527.935 113.056\n",
            "532.926 255.969\n",
            "366.6 316.507\n",
            "449.959 402.828\n",
            "530.924 312.907\n",
            "489.198 198.265\n"
          ]
        },
        {
          "output_type": "error",
          "ename": "KeyboardInterrupt",
          "evalue": "ignored",
          "traceback": [
            "\u001b[0;31m---------------------------------------------------------------------------\u001b[0m",
            "\u001b[0;31mKeyboardInterrupt\u001b[0m                         Traceback (most recent call last)",
            "\u001b[0;32m<ipython-input-26-3adaebc3b4d2>\u001b[0m in \u001b[0;36m<module>\u001b[0;34m\u001b[0m\n\u001b[1;32m      6\u001b[0m \u001b[0;34m\u001b[0m\u001b[0m\n\u001b[1;32m      7\u001b[0m \u001b[0;32mwhile\u001b[0m \u001b[0;32mTrue\u001b[0m \u001b[0;34m:\u001b[0m\u001b[0;34m\u001b[0m\u001b[0;34m\u001b[0m\u001b[0m\n\u001b[0;32m----> 8\u001b[0;31m   \u001b[0mturtle\u001b[0m\u001b[0;34m.\u001b[0m\u001b[0mleft\u001b[0m\u001b[0;34m(\u001b[0m\u001b[0mrandom\u001b[0m\u001b[0;34m.\u001b[0m\u001b[0mrandint\u001b[0m\u001b[0;34m(\u001b[0m\u001b[0;36m0\u001b[0m\u001b[0;34m,\u001b[0m \u001b[0;36m360\u001b[0m\u001b[0;34m)\u001b[0m\u001b[0;34m)\u001b[0m\u001b[0;34m\u001b[0m\u001b[0;34m\u001b[0m\u001b[0m\n\u001b[0m\u001b[1;32m      9\u001b[0m   \u001b[0mturtle\u001b[0m\u001b[0;34m.\u001b[0m\u001b[0mforward\u001b[0m\u001b[0;34m(\u001b[0m\u001b[0mrandom\u001b[0m\u001b[0;34m.\u001b[0m\u001b[0mrandint\u001b[0m\u001b[0;34m(\u001b[0m\u001b[0;36m100\u001b[0m\u001b[0;34m,\u001b[0m\u001b[0;36m200\u001b[0m\u001b[0;34m)\u001b[0m\u001b[0;34m)\u001b[0m\u001b[0;34m\u001b[0m\u001b[0;34m\u001b[0m\u001b[0m\n\u001b[1;32m     10\u001b[0m   \u001b[0mprint\u001b[0m\u001b[0;34m(\u001b[0m\u001b[0mturtle\u001b[0m\u001b[0;34m.\u001b[0m\u001b[0mgetx\u001b[0m\u001b[0;34m(\u001b[0m\u001b[0;34m)\u001b[0m\u001b[0;34m,\u001b[0m \u001b[0mturtle\u001b[0m\u001b[0;34m.\u001b[0m\u001b[0mgety\u001b[0m\u001b[0;34m(\u001b[0m\u001b[0;34m)\u001b[0m\u001b[0;34m)\u001b[0m\u001b[0;34m\u001b[0m\u001b[0;34m\u001b[0m\u001b[0m\n",
            "\u001b[0;32m/usr/local/lib/python3.7/dist-packages/ColabTurtle/Turtle.py\u001b[0m in \u001b[0;36mleft\u001b[0;34m(degrees)\u001b[0m\n\u001b[1;32m    215\u001b[0m     \u001b[0;32mif\u001b[0m \u001b[0;32mnot\u001b[0m \u001b[0misinstance\u001b[0m\u001b[0;34m(\u001b[0m\u001b[0mdegrees\u001b[0m\u001b[0;34m,\u001b[0m \u001b[0;34m(\u001b[0m\u001b[0mint\u001b[0m\u001b[0;34m,\u001b[0m\u001b[0mfloat\u001b[0m\u001b[0;34m)\u001b[0m\u001b[0;34m)\u001b[0m\u001b[0;34m:\u001b[0m\u001b[0;34m\u001b[0m\u001b[0;34m\u001b[0m\u001b[0m\n\u001b[1;32m    216\u001b[0m         \u001b[0;32mraise\u001b[0m \u001b[0mValueError\u001b[0m\u001b[0;34m(\u001b[0m\u001b[0;34m'degrees must be a number.'\u001b[0m\u001b[0;34m)\u001b[0m\u001b[0;34m\u001b[0m\u001b[0;34m\u001b[0m\u001b[0m\n\u001b[0;32m--> 217\u001b[0;31m     \u001b[0mright\u001b[0m\u001b[0;34m(\u001b[0m\u001b[0;34m-\u001b[0m\u001b[0;36m1\u001b[0m \u001b[0;34m*\u001b[0m \u001b[0mdegrees\u001b[0m\u001b[0;34m)\u001b[0m\u001b[0;34m\u001b[0m\u001b[0;34m\u001b[0m\u001b[0m\n\u001b[0m\u001b[1;32m    218\u001b[0m \u001b[0;34m\u001b[0m\u001b[0m\n\u001b[1;32m    219\u001b[0m \u001b[0mlt\u001b[0m \u001b[0;34m=\u001b[0m \u001b[0mleft\u001b[0m\u001b[0;34m\u001b[0m\u001b[0;34m\u001b[0m\u001b[0m\n",
            "\u001b[0;32m/usr/local/lib/python3.7/dist-packages/ColabTurtle/Turtle.py\u001b[0m in \u001b[0;36mright\u001b[0;34m(degrees)\u001b[0m\n\u001b[1;32m    194\u001b[0m \u001b[0;34m\u001b[0m\u001b[0m\n\u001b[1;32m    195\u001b[0m     \u001b[0mturtle_degree\u001b[0m \u001b[0;34m=\u001b[0m \u001b[0;34m(\u001b[0m\u001b[0mturtle_degree\u001b[0m \u001b[0;34m+\u001b[0m \u001b[0mdegrees\u001b[0m\u001b[0;34m)\u001b[0m \u001b[0;34m%\u001b[0m \u001b[0;36m360\u001b[0m\u001b[0;34m\u001b[0m\u001b[0;34m\u001b[0m\u001b[0m\n\u001b[0;32m--> 196\u001b[0;31m     \u001b[0m_updateDrawing\u001b[0m\u001b[0;34m(\u001b[0m\u001b[0;34m)\u001b[0m\u001b[0;34m\u001b[0m\u001b[0;34m\u001b[0m\u001b[0m\n\u001b[0m\u001b[1;32m    197\u001b[0m \u001b[0;34m\u001b[0m\u001b[0m\n\u001b[1;32m    198\u001b[0m \u001b[0mrt\u001b[0m \u001b[0;34m=\u001b[0m \u001b[0mright\u001b[0m \u001b[0;31m# alias\u001b[0m\u001b[0;34m\u001b[0m\u001b[0;34m\u001b[0m\u001b[0m\n",
            "\u001b[0;32m/usr/local/lib/python3.7/dist-packages/ColabTurtle/Turtle.py\u001b[0m in \u001b[0;36m_updateDrawing\u001b[0;34m()\u001b[0m\n\u001b[1;32m    143\u001b[0m     \u001b[0;32mif\u001b[0m \u001b[0mdrawing_window\u001b[0m \u001b[0;34m==\u001b[0m \u001b[0;32mNone\u001b[0m\u001b[0;34m:\u001b[0m\u001b[0;34m\u001b[0m\u001b[0;34m\u001b[0m\u001b[0m\n\u001b[1;32m    144\u001b[0m         \u001b[0;32mraise\u001b[0m \u001b[0mAttributeError\u001b[0m\u001b[0;34m(\u001b[0m\u001b[0;34m\"Display has not been initialized yet. Call initializeTurtle() before using.\"\u001b[0m\u001b[0;34m)\u001b[0m\u001b[0;34m\u001b[0m\u001b[0;34m\u001b[0m\u001b[0m\n\u001b[0;32m--> 145\u001b[0;31m     \u001b[0mtime\u001b[0m\u001b[0;34m.\u001b[0m\u001b[0msleep\u001b[0m\u001b[0;34m(\u001b[0m\u001b[0m_speedToSec\u001b[0m\u001b[0;34m(\u001b[0m\u001b[0mturtle_speed\u001b[0m\u001b[0;34m)\u001b[0m\u001b[0;34m)\u001b[0m\u001b[0;34m\u001b[0m\u001b[0;34m\u001b[0m\u001b[0m\n\u001b[0m\u001b[1;32m    146\u001b[0m     \u001b[0mdrawing_window\u001b[0m\u001b[0;34m.\u001b[0m\u001b[0mupdate\u001b[0m\u001b[0;34m(\u001b[0m\u001b[0mHTML\u001b[0m\u001b[0;34m(\u001b[0m\u001b[0m_generateSvgDrawing\u001b[0m\u001b[0;34m(\u001b[0m\u001b[0;34m)\u001b[0m\u001b[0;34m)\u001b[0m\u001b[0;34m)\u001b[0m\u001b[0;34m\u001b[0m\u001b[0;34m\u001b[0m\u001b[0m\n\u001b[1;32m    147\u001b[0m \u001b[0;34m\u001b[0m\u001b[0m\n",
            "\u001b[0;31mKeyboardInterrupt\u001b[0m: "
          ]
        }
      ]
    }
  ]
}