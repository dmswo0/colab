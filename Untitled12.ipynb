{
  "nbformat": 4,
  "nbformat_minor": 0,
  "metadata": {
    "colab": {
      "provenance": [],
      "authorship_tag": "ABX9TyPW1ciUVOW9fHb3nIvbngKW",
      "include_colab_link": true
    },
    "kernelspec": {
      "name": "python3",
      "display_name": "Python 3"
    },
    "language_info": {
      "name": "python"
    }
  },
  "cells": [
    {
      "cell_type": "markdown",
      "metadata": {
        "id": "view-in-github",
        "colab_type": "text"
      },
      "source": [
        "<a href=\"https://colab.research.google.com/github/dmswo0/colab/blob/main/Untitled12.ipynb\" target=\"_parent\"><img src=\"https://colab.research.google.com/assets/colab-badge.svg\" alt=\"Open In Colab\"/></a>"
      ]
    },
    {
      "cell_type": "markdown",
      "source": [
        "for문을 활용한 리스트"
      ],
      "metadata": {
        "id": "nE2qmtrMVnTi"
      }
    },
    {
      "cell_type": "code",
      "execution_count": 1,
      "metadata": {
        "colab": {
          "base_uri": "https://localhost:8080/"
        },
        "id": "756wOvlFRZ9x",
        "outputId": "f7c7cae6-a5db-4620-9682-ca02bdaba404"
      },
      "outputs": [
        {
          "output_type": "stream",
          "name": "stdout",
          "text": [
            "숫자 : 10\n",
            "숫자 : 20\n",
            "숫자 : 30\n",
            "숫자 : 40\n",
            "합계 ==>  100\n"
          ]
        }
      ],
      "source": [
        "numList = []\n",
        "for i in range(0, 4) :\n",
        "    numList.append(0)\n",
        "hap = 0\n",
        "\n",
        "for i in range(0, 4) :\n",
        "    numList[i] = int(input(\"숫자 : \"))\n",
        "\n",
        "hap = numList[0] + numList[1] + numList[2] + numList[3]\n",
        "\n",
        "print(\"합계 ==> \", hap)"
      ]
    },
    {
      "cell_type": "markdown",
      "source": [
        "형성평가 : 심사위원 점수 결과 구하기"
      ],
      "metadata": {
        "id": "zGxp72S8aoit"
      }
    },
    {
      "cell_type": "code",
      "source": [
        "score = [0,0,0,0,0]\n",
        "sum, avg = 0,0\n",
        "print(\"김안공 선수 경기가 끝났습니다. ~ 짝짝짝\")\n",
        "\n",
        "for i in range(0,5) :\n",
        "    score[i] = int(input(\"평균 점수 ==> \"))\n",
        "    sum = sum + score[i]\n",
        "avg = sum / 5\n",
        "print(\"심사위원의 평균 점수 ==>\", avg)"
      ],
      "metadata": {
        "colab": {
          "base_uri": "https://localhost:8080/"
        },
        "id": "kw-s5859av6z",
        "outputId": "f47514f6-4b80-40ca-f52b-96e653395ec1"
      },
      "execution_count": 4,
      "outputs": [
        {
          "output_type": "stream",
          "name": "stdout",
          "text": [
            "김안공 선수 경기가 끝났습니다. ~ 짝짝짝\n",
            "평균 점수 ==> 11111111\n",
            "평균 점수 ==> 11111111\n",
            "평균 점수 ==> 205\n",
            "평균 점수 ==> 130\n",
            "평균 점수 ==> 150\n",
            "심사위원의 평균 점수 ==> 4444541.4\n"
          ]
        }
      ]
    },
    {
      "cell_type": "code",
      "source": [
        "import random\n",
        "score = []\n",
        "for i in range(0,10000) :\n",
        "    rock_paper_scissors = [\"가위\", \"바위\", \"보\"]\n",
        "    comA = random.choice(rock_paper_scissors)\n",
        "    comB = random.choice(rock_paper_scissors)\n",
        "    if comA == comB :\n",
        "      score.append(\"비김\")\n",
        "    elif (comA == \"가위\" and comB == \"보\") or \\\n",
        "       (comA == \"바위\" and comB == \"가위\") or \\\n",
        "       (comA == \"보\" and comB == \"바위\") :\n",
        "       score.append(\"comA\")\n",
        "\n",
        "else :\n",
        "    score.append(\"comB\")\n",
        "print(\"10000번 중 컴퓨터 A의 승리 : \", score.count(\"comA\"))\n",
        "print(\"10000번 중 컴퓨터 B의 승리 : \", score.count(\"comB\"))\n",
        "print(\"10000번 중 비긴 경기 : \", score.count(\"비김\"))\n",
        "#print(score.count(\"comA\") + score.count(\"comB\") + score.count(\"비김\"))"
      ],
      "metadata": {
        "colab": {
          "base_uri": "https://localhost:8080/"
        },
        "id": "2weaDuKVgXDI",
        "outputId": "d67dad40-05b6-456f-95cb-797295554c8f"
      },
      "execution_count": 9,
      "outputs": [
        {
          "output_type": "stream",
          "name": "stdout",
          "text": [
            "10000번 중 컴퓨터 A의 승리 :  3353\n",
            "10000번 중 컴퓨터 B의 승리 :  1\n",
            "10000번 중 비긴 경기 :  3290\n"
          ]
        }
      ]
    },
    {
      "cell_type": "code",
      "source": [
        "singer = {}\n",
        "singer[\"이름\"] = input(\"이름 ==>\")\n",
        "\n",
        "print(singer)"
      ],
      "metadata": {
        "colab": {
          "base_uri": "https://localhost:8080/"
        },
        "id": "zzOFOBnboIog",
        "outputId": "69cd2b33-c6f9-4e33-b4d0-11a633497f9d"
      },
      "execution_count": 10,
      "outputs": [
        {
          "output_type": "stream",
          "name": "stdout",
          "text": [
            "이름 ==>트와이스\n",
            "{'이름': '트와이스'}\n"
          ]
        }
      ]
    }
  ]
}