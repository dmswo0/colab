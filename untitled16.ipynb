{
  "nbformat": 4,
  "nbformat_minor": 0,
  "metadata": {
    "colab": {
      "provenance": [],
      "authorship_tag": "ABX9TyMpcwHXy/xwsDCtPXhYHwVX",
      "include_colab_link": true
    },
    "kernelspec": {
      "name": "python3",
      "display_name": "Python 3"
    },
    "language_info": {
      "name": "python"
    }
  },
  "cells": [
    {
      "cell_type": "markdown",
      "metadata": {
        "id": "view-in-github",
        "colab_type": "text"
      },
      "source": [
        "<a href=\"https://colab.research.google.com/github/dmswo0/colab/blob/main/untitled16.ipynb\" target=\"_parent\"><img src=\"https://colab.research.google.com/assets/colab-badge.svg\" alt=\"Open In Colab\"/></a>"
      ]
    },
    {
      "cell_type": "code",
      "execution_count": null,
      "metadata": {
        "colab": {
          "base_uri": "https://localhost:8080/"
        },
        "id": "9uYrFJMB6UBc",
        "outputId": "ba303983-86e8-4675-da1f-4d756d09427d"
      },
      "outputs": [
        {
          "output_type": "stream",
          "name": "stdout",
          "text": [
            "** 로또 번호를 추첨합니다. **\n",
            "오늘의 로또 번호 == >  [4, 32, 19, 32, 34, 14]\n"
          ]
        }
      ],
      "source": [
        "import random\n",
        "lotto_num = []\n",
        "def lotto() :\n",
        "  for i in range(6) :\n",
        "    lotto_num.append(random.randint(1,45))\n",
        "  return lotto_num\n",
        "\n",
        "print(\"** 로또 번호를 추첨합니다. **\")\n",
        "print(\"오늘의 로또 번호 == > \", lotto())"
      ]
    },
    {
      "cell_type": "code",
      "source": [
        "import random\n",
        "lotto_num = []\n",
        "def lotto() :\n",
        "  while True :\n",
        "    num = random.randint(1,45)\n",
        "    if num in lotto_num :\n",
        "      num = random.randint(1,45)\n",
        "    else :\n",
        "      lotto_num.append(num)\n",
        "    if len(lotto_num) == 6 :\n",
        "      break\n",
        "  return lotto_num\n",
        "\n",
        "print(\"** 로또 번호를 추첨합니다. **\")\n",
        "print(\"오늘의 로또 번호 == > \", lotto())"
      ],
      "metadata": {
        "colab": {
          "base_uri": "https://localhost:8080/"
        },
        "id": "r1mX3kWx7uJT",
        "outputId": "33c3f270-dc95-4c59-808c-35db4fc92774"
      },
      "execution_count": null,
      "outputs": [
        {
          "output_type": "stream",
          "name": "stdout",
          "text": [
            "** 로또 번호를 추첨합니다. **\n",
            "오늘의 로또 번호 == >  [12, 28, 1, 5, 20, 43]\n"
          ]
        }
      ]
    },
    {
      "cell_type": "code",
      "source": [
        "from datetime import datetime\n",
        "from datetime import timedelta\n",
        "birth = datetime(2004, 7, 20, tzinfo=None)\n",
        "now = datetime.now()\n",
        "day = now - birth\n",
        "day = str(day).split(\" \")[0]\n",
        "\n",
        "result = int(day) * 3 * 5000\n",
        "print(now - birth)\n",
        "print(\"현재까지 식비 : \", result, \"원\")"
      ],
      "metadata": {
        "colab": {
          "base_uri": "https://localhost:8080/"
        },
        "id": "AvGax6cYEKOS",
        "outputId": "33d98f5b-c36a-4abf-d711-2f49baf7b79b"
      },
      "execution_count": null,
      "outputs": [
        {
          "output_type": "stream",
          "name": "stdout",
          "text": [
            "6652 days, 7:26:05.935450\n",
            "현재까지 식비 :  99780000 원\n"
          ]
        }
      ]
    }
  ]
}