{
  "nbformat": 4,
  "nbformat_minor": 0,
  "metadata": {
    "colab": {
      "name": "Lession2.ipynb",
      "provenance": [],
      "authorship_tag": "ABX9TyMEDQ3SQDwIW3eOhSEixOYF",
      "include_colab_link": true
    },
    "kernelspec": {
      "name": "python3",
      "display_name": "Python 3"
    },
    "language_info": {
      "name": "python"
    }
  },
  "cells": [
    {
      "cell_type": "markdown",
      "metadata": {
        "id": "view-in-github",
        "colab_type": "text"
      },
      "source": [
        "<a href=\"https://colab.research.google.com/github/dmswo0/colab/blob/main/Lession2.ipynb\" target=\"_parent\"><img src=\"https://colab.research.google.com/assets/colab-badge.svg\" alt=\"Open In Colab\"/></a>"
      ]
    },
    {
      "cell_type": "markdown",
      "source": [
        "파이썬 2장\n",
        "** 변수와 input() 함수"
      ],
      "metadata": {
        "id": "wUbpUr18B6AF"
      }
    },
    {
      "cell_type": "markdown",
      "source": [
        "간단한 계산기 만들기"
      ],
      "metadata": {
        "id": "c5D8UVtMEGpK"
      }
    },
    {
      "cell_type": "code",
      "source": [
        "num1 =100\n",
        "num2 = 200\n",
        "result1 = num1 + num2\n",
        "result2 = num1 - num2\n",
        "result3 = num1 * num2\n",
        "result4 = num1 / num2\n",
        "print(num1, '+', num2, '=', result1)\n",
        "print(num1, '-', num2, '=', result2)\n",
        "print(num1, '/', num2, '=', result3)\n",
        "print(num1, '*', num2, '=', result4)"
      ],
      "metadata": {
        "colab": {
          "base_uri": "https://localhost:8080/"
        },
        "id": "geyj0K8vEBRS",
        "outputId": "ac187a4d-48c5-404e-cf1a-876850dde3be"
      },
      "execution_count": 5,
      "outputs": [
        {
          "output_type": "stream",
          "name": "stdout",
          "text": [
            "100 + 200 = 300\n",
            "100 - 200 = -100\n",
            "100 / 200 = 20000\n",
            "100 * 200 = 0.5\n"
          ]
        }
      ]
    },
    {
      "cell_type": "markdown",
      "source": [
        "input() 함수 예제"
      ],
      "metadata": {
        "id": "T5hgjrm7Gci1"
      }
    },
    {
      "cell_type": "code",
      "source": [
        "num1 = input(\"첫번째 숫자 입력 ==>\")\n",
        "num2 = int(input(\"두번째 숫자 입력 ==>\"))\n",
        "result =int(num1) + num2\n",
        "print(num1, \"+\", num2, \"=\", result)"
      ],
      "metadata": {
        "colab": {
          "base_uri": "https://localhost:8080/"
        },
        "id": "HDNoUBcUGiHe",
        "outputId": "4eb64017-aa1f-4099-9f40-6eb14025cc38"
      },
      "execution_count": 6,
      "outputs": [
        {
          "output_type": "stream",
          "name": "stdout",
          "text": [
            "첫번째 숫자 입력 ==>100\n",
            "두번째 숫자 입력 ==>200\n",
            "100 + 200 = 300\n"
          ]
        }
      ]
    },
    {
      "cell_type": "code",
      "source": [
        "print('** 논술형 문제 = input()함수를 이용한 간단한 계산기 ** ')\n",
        "num1 = float(input(\"첫번째 숫자 입력 : \"))\n",
        "num1 = float(input(\"두번째 숫자 입력 : \"))\n",
        "print(num1, \"+\", num2, \"=\", num1 + num2)\n",
        "print(num1, \"-\", num2, \"=\", num1 - num2)\n",
        "print(num1, \"*\", num2, \"=\", num1 * num2)\n",
        "print(num1, \"/\", num2, \"=\", num1 / num2)"
      ],
      "metadata": {
        "colab": {
          "base_uri": "https://localhost:8080/"
        },
        "id": "UM71yuF7ImgZ",
        "outputId": "be8cb6b3-b8d3-4e8e-fd32-82f24877b8c7"
      },
      "execution_count": 8,
      "outputs": [
        {
          "output_type": "stream",
          "name": "stdout",
          "text": [
            "** 논술형 문제 = input()함수를 이용한 간단한 계산기 ** \n",
            "첫번째 숫자 입력 : 100\n",
            "두번째 숫자 입력 : 200\n",
            "200.0 + 200 = 400.0\n",
            "200.0 - 200 = 0.0\n",
            "200.0 * 200 = 40000.0\n",
            "200.0 / 200 = 1.0\n"
          ]
        }
      ]
    }
  ]
}