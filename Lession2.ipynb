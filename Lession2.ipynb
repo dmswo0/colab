{
  "nbformat": 4,
  "nbformat_minor": 0,
  "metadata": {
    "colab": {
      "name": "Lession2.ipynb",
      "provenance": [],
      "authorship_tag": "ABX9TyPBaDEmaUTe00ID23avl+4c",
      "include_colab_link": true
    },
    "kernelspec": {
      "name": "python3",
      "display_name": "Python 3"
    },
    "language_info": {
      "name": "python"
    }
  },
  "cells": [
    {
      "cell_type": "markdown",
      "metadata": {
        "id": "view-in-github",
        "colab_type": "text"
      },
      "source": [
        "<a href=\"https://colab.research.google.com/github/dmswo0/colab/blob/main/Lession2.ipynb\" target=\"_parent\"><img src=\"https://colab.research.google.com/assets/colab-badge.svg\" alt=\"Open In Colab\"/></a>"
      ]
    },
    {
      "cell_type": "markdown",
      "source": [
        "파이썬 2장\n",
        "** 변수와 input() 함수"
      ],
      "metadata": {
        "id": "wUbpUr18B6AF"
      }
    },
    {
      "cell_type": "markdown",
      "source": [
        "간단한 계산기 만들기"
      ],
      "metadata": {
        "id": "c5D8UVtMEGpK"
      }
    },
    {
      "cell_type": "code",
      "source": [
        "num1 =100\n",
        "num2 = 200\n",
        "result1 = num1 + num2\n",
        "result2 = num1 - num2\n",
        "result3 = num1 * num2\n",
        "result4 = num1 / num2\n",
        "print(num1, '+', num2, '=', result1)\n",
        "print(num1, '-', num2, '=', result2)\n",
        "print(num1, '/', num2, '=', result3)\n",
        "print(num1, '*', num2, '=', result4)"
      ],
      "metadata": {
        "colab": {
          "base_uri": "https://localhost:8080/"
        },
        "id": "geyj0K8vEBRS",
        "outputId": "ac187a4d-48c5-404e-cf1a-876850dde3be"
      },
      "execution_count": 5,
      "outputs": [
        {
          "output_type": "stream",
          "name": "stdout",
          "text": [
            "100 + 200 = 300\n",
            "100 - 200 = -100\n",
            "100 / 200 = 20000\n",
            "100 * 200 = 0.5\n"
          ]
        }
      ]
    },
    {
      "cell_type": "markdown",
      "source": [
        "input() 함수 예제"
      ],
      "metadata": {
        "id": "T5hgjrm7Gci1"
      }
    },
    {
      "cell_type": "code",
      "source": [
        "num1 = input(\"첫번째 숫자 입력 ==>\")\n",
        "num2 = int(input(\"두번째 숫자 입력 ==>\"))\n",
        "result =int(num1) + num2\n",
        "print(num1, \"+\", num2, \"=\", result)"
      ],
      "metadata": {
        "colab": {
          "base_uri": "https://localhost:8080/"
        },
        "id": "HDNoUBcUGiHe",
        "outputId": "4eb64017-aa1f-4099-9f40-6eb14025cc38"
      },
      "execution_count": 6,
      "outputs": [
        {
          "output_type": "stream",
          "name": "stdout",
          "text": [
            "첫번째 숫자 입력 ==>100\n",
            "두번째 숫자 입력 ==>200\n",
            "100 + 200 = 300\n"
          ]
        }
      ]
    },
    {
      "cell_type": "code",
      "source": [
        "print('** 논술형 문제 = input()함수를 이용한 간단한 계산기 ** ')\n",
        "num1 = float(input(\"첫번째 숫자 입력 : \"))\n",
        "num1 = float(input(\"두번째 숫자 입력 : \"))\n",
        "print(num1, \"+\", num2, \"=\", num1 + num2)\n",
        "print(num1, \"-\", num2, \"=\", num1 - num2)\n",
        "print(num1, \"*\", num2, \"=\", num1 * num2)\n",
        "print(num1, \"/\", num2, \"=\", num1 / num2)"
      ],
      "metadata": {
        "colab": {
          "base_uri": "https://localhost:8080/"
        },
        "id": "UM71yuF7ImgZ",
        "outputId": "be8cb6b3-b8d3-4e8e-fd32-82f24877b8c7"
      },
      "execution_count": 8,
      "outputs": [
        {
          "output_type": "stream",
          "name": "stdout",
          "text": [
            "** 논술형 문제 = input()함수를 이용한 간단한 계산기 ** \n",
            "첫번째 숫자 입력 : 100\n",
            "두번째 숫자 입력 : 200\n",
            "200.0 + 200 = 400.0\n",
            "200.0 - 200 = 0.0\n",
            "200.0 * 200 = 40000.0\n",
            "200.0 / 200 = 1.0\n"
          ]
        }
      ]
    },
    {
      "cell_type": "markdown",
      "source": [
        "사용자에게 문자열을 입력받아 출력하기"
      ],
      "metadata": {
        "id": "3eqwz-RBOlmI"
      }
    },
    {
      "cell_type": "code",
      "source": [
        "name = input(\"이름 ==> \")\n",
        "tel_number = input(\"전화번호 ==> \")\n",
        "print(\"제 이름은\", name, \"연락처는\", tel_number, \"입니다.\")"
      ],
      "metadata": {
        "colab": {
          "base_uri": "https://localhost:8080/"
        },
        "id": "AU_DjzhXOscu",
        "outputId": "f1b87f28-915e-45f8-b365-f439d31168e3"
      },
      "execution_count": 9,
      "outputs": [
        {
          "output_type": "stream",
          "name": "stdout",
          "text": [
            "이름 ==> 이은재\n",
            "전화번호 ==> 010-1234-1234\n",
            "제 이름은 이은재 연락처는 010-1234-1234 입니다.\n"
          ]
        }
      ]
    },
    {
      "cell_type": "markdown",
      "source": [
        "택배를 보내기 위한 정보를 입력하시오."
      ],
      "metadata": {
        "id": "GiYsQsY7RBRv"
      }
    },
    {
      "cell_type": "code",
      "source": [
        "personName = input(\"받는 사람 : \")\n",
        "personAddr = input(\"주소 : \")\n",
        "weight = int(input(\"무게(g) : \"))\n",
        "\n",
        "print(\"** 받는 사람 ==>\", personName)\n",
        "print(\"** 주소 =>\", personAddr)\n",
        "\n",
        "print(\"** 배송비 ==>\", weight * 5, \"원\")"
      ],
      "metadata": {
        "colab": {
          "base_uri": "https://localhost:8080/"
        },
        "id": "lj55VQm7RIG6",
        "outputId": "f9bd8d72-e3b6-46a3-993f-958cf29da629"
      },
      "execution_count": 11,
      "outputs": [
        {
          "output_type": "stream",
          "name": "stdout",
          "text": [
            "받는 사람 : 홍길동\n",
            "주소 : 와동\n",
            "무게(g) : 727\n",
            "** 받는 사람 ==> 홍길동\n",
            "** 주소 => 와동\n",
            "** 배송비 ==> 3635 원\n"
          ]
        }
      ]
    },
    {
      "cell_type": "markdown",
      "source": [
        "간단한 계산기"
      ],
      "metadata": {
        "id": "SjahU8QLThOq"
      }
    },
    {
      "cell_type": "code",
      "source": [
        "num1 = int(input(\"숫자1 ==> \"))\n",
        "num2 = int(input(\"숫자2 ==> \"))\n",
        "\n",
        "result1 = num1 + num2\n",
        "result2 = num1 - num2\n",
        "result3 = num1 * num2\n",
        "result4 = num1 / num2\n",
        "result5 = num1 % num2\n",
        "result6 = num1 ** num2\n",
        "\n",
        "print(num1, \"+\", num2, \"=\", result1)\n",
        "print(num1, \"-\", num2, \"=\", result2)\n",
        "print(num1, \"*\", num2, \"=\", result3)\n",
        "print(num1, \"/\", num2, \"=\", result4)\n",
        "print(num1, \"%\", num2, \"=\", result5)\n",
        "print(num1, \"**\", num2, \"=\", result6)"
      ],
      "metadata": {
        "colab": {
          "base_uri": "https://localhost:8080/"
        },
        "id": "agDNa0sRTjVi",
        "outputId": "884ae0f6-c367-4628-c47b-8df8c7a0a040"
      },
      "execution_count": 14,
      "outputs": [
        {
          "output_type": "stream",
          "name": "stdout",
          "text": [
            "숫자1 ==> 100\n",
            "숫자2 ==> 10\n",
            "100 + 10 = 110\n",
            "100 - 10 = 90\n",
            "100 * 10 = 1000\n",
            "100 / 10 = 10.0\n",
            "100 % 10 = 0\n",
            "100 ** 10 = 100000000000000000000\n"
          ]
        }
      ]
    },
    {
      "cell_type": "code",
      "source": [
        "#!pip3 install ColabTurtle\n",
        "import ColabTurtle.Turtle as turtle\n",
        "\n",
        "turtle.intitalizeTurtle()\n",
        "turtle.forward(50)\n",
        "turtle.left(90)\n",
        "turtle.forward(100)\n",
        "turtle.penup()\n",
        "turtle.forward(100)\n",
        "turtle.pendown()\n",
        "turtle.left(90)\n",
        "turtle.forward(50)"
      ],
      "metadata": {
        "colab": {
          "base_uri": "https://localhost:8080/",
          "height": 394
        },
        "id": "YAhp_cyxWKqg",
        "outputId": "aa695fb0-5c01-4f8a-cc22-ba3be55267c7"
      },
      "execution_count": 15,
      "outputs": [
        {
          "output_type": "error",
          "ename": "ModuleNotFoundError",
          "evalue": "ignored",
          "traceback": [
            "\u001b[0;31m---------------------------------------------------------------------------\u001b[0m",
            "\u001b[0;31mModuleNotFoundError\u001b[0m                       Traceback (most recent call last)",
            "\u001b[0;32m<ipython-input-15-d389eecb6486>\u001b[0m in \u001b[0;36m<module>\u001b[0;34m\u001b[0m\n\u001b[1;32m      1\u001b[0m \u001b[0;31m#!pip3 install ColabTurtle\u001b[0m\u001b[0;34m\u001b[0m\u001b[0;34m\u001b[0m\u001b[0;34m\u001b[0m\u001b[0m\n\u001b[0;32m----> 2\u001b[0;31m \u001b[0;32mimport\u001b[0m \u001b[0mColabTurtle\u001b[0m\u001b[0;34m.\u001b[0m\u001b[0mTurtle\u001b[0m \u001b[0;32mas\u001b[0m \u001b[0mturtle\u001b[0m\u001b[0;34m\u001b[0m\u001b[0;34m\u001b[0m\u001b[0m\n\u001b[0m\u001b[1;32m      3\u001b[0m \u001b[0;34m\u001b[0m\u001b[0m\n\u001b[1;32m      4\u001b[0m \u001b[0mturtle\u001b[0m\u001b[0;34m.\u001b[0m\u001b[0mintitalizeTurtle\u001b[0m\u001b[0;34m(\u001b[0m\u001b[0;34m)\u001b[0m\u001b[0;34m\u001b[0m\u001b[0;34m\u001b[0m\u001b[0m\n\u001b[1;32m      5\u001b[0m \u001b[0mturtle\u001b[0m\u001b[0;34m.\u001b[0m\u001b[0mforward\u001b[0m\u001b[0;34m(\u001b[0m\u001b[0;36m50\u001b[0m\u001b[0;34m)\u001b[0m\u001b[0;34m\u001b[0m\u001b[0;34m\u001b[0m\u001b[0m\n",
            "\u001b[0;31mModuleNotFoundError\u001b[0m: No module named 'ColabTurtle'",
            "",
            "\u001b[0;31m---------------------------------------------------------------------------\u001b[0;32m\nNOTE: If your import is failing due to a missing package, you can\nmanually install dependencies using either !pip or !apt.\n\nTo view examples of installing some common dependencies, click the\n\"Open Examples\" button below.\n\u001b[0;31m---------------------------------------------------------------------------\u001b[0m\n"
          ],
          "errorDetails": {
            "actions": [
              {
                "action": "open_url",
                "actionText": "Open Examples",
                "url": "/notebooks/snippets/importing_libraries.ipynb"
              }
            ]
          }
        }
      ]
    }
  ]
}