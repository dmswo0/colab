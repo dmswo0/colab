{
  "nbformat": 4,
  "nbformat_minor": 0,
  "metadata": {
    "colab": {
      "provenance": [],
      "authorship_tag": "ABX9TyN9Du4lidVdWp6f4Cz7CZnP",
      "include_colab_link": true
    },
    "kernelspec": {
      "name": "python3",
      "display_name": "Python 3"
    },
    "language_info": {
      "name": "python"
    }
  },
  "cells": [
    {
      "cell_type": "markdown",
      "metadata": {
        "id": "view-in-github",
        "colab_type": "text"
      },
      "source": [
        "<a href=\"https://colab.research.google.com/github/dmswo0/colab/blob/main/Untitled24.ipynb\" target=\"_parent\"><img src=\"https://colab.research.google.com/assets/colab-badge.svg\" alt=\"Open In Colab\"/></a>"
      ]
    },
    {
      "cell_type": "code",
      "execution_count": null,
      "metadata": {
        "id": "SrhwTp8siW7M"
      },
      "outputs": [],
      "source": [
        "!pip install requests\n",
        "!pip install bs4"
      ]
    },
    {
      "cell_type": "code",
      "source": [
        "from bs4 import BeautifulSoup\n",
        "import requests\n",
        "\n",
        "search_word = \"안산공업고등학교\" \n",
        "title_list = []\n",
        "\n",
        "def naver_news_get(start_num, end_num) :\n",
        "  while start_num <= end_num :\n",
        "    url = 'https://search.naver.com/search.naver?where=news&sm=tab_jum&query={}&start={}'.format(search_word,start_num)\n",
        "    req = requests.get(url)\n",
        "    #print(req)\n",
        "    start_num += 1\n",
        "    if req.ok :\n",
        "      html = req.text\n",
        "      soup = BeautifulSoup(html, \"html.parser\")\n",
        "      #print(soup)\n",
        "      titles = soup.select('.news_tit')\n",
        "      for title in titles :\n",
        "        title_list.append(title['title'])\n",
        "  return title_list\n",
        "print(naver_news_get(1,5))"
      ],
      "metadata": {
        "colab": {
          "base_uri": "https://localhost:8080/"
        },
        "id": "RnXVncC7mlMH",
        "outputId": "e426edc0-09d3-4a7c-bcc8-0120de14e438"
      },
      "execution_count": 7,
      "outputs": [
        {
          "output_type": "stream",
          "name": "stdout",
          "text": [
            "['안산공업고등학교 윤지은 선수, 국제기능올림픽대회 3D 디지털게임아트 분야 은메달 수상', '[즐거운 우리학교] 안산공업고등학교, 체계적 지원으로 \\'공부 잘하는 야구부\\'… \"실력·우정 모두 홈런\"', '안산 공업고등학교, 제57회 전국기능경기대회 경기도 참가학교 1위', '안산시, 선행 베푼 안산공업고등학교 김민재·노충남 학생에 표창장 수여', \"안산공업고등학교, 3D프린팅로봇제작 연구반 '프로젝트 수업발표회'\", '[즐거운 우리학교] 송원국 안산공고 야구부 감독 \"팀 한명도 소외 없도록 정성껏 훈련 지도\"', '[즐거운 우리학교] 이공열 안산공고 교장 \"우수학생 진학하고픈 명문학교 조성\"', '안산공고, 전국기능경기대회 경기도 참가학교 1위 달성', '안산 공업고등학교, 34개 강소기업과 학생 취업맞춤 반 협약식', '안산시청소년재단, 제1회 메이커 DALTHON(달트톤) 대회 열어', '[즐거운 우리학교] 안산공업고등학교, 체계적 지원으로 \\'공부 잘하는 야구부\\'… \"실력·우정 모두 홈런\"', '안산 공업고등학교, 제57회 전국기능경기대회 경기도 참가학교 1위', '안산시, 선행 베푼 안산공업고등학교 김민재·노충남 학생에 표창장 수여', \"안산공업고등학교, 3D프린팅로봇제작 연구반 '프로젝트 수업발표회'\", '[즐거운 우리학교] 송원국 안산공고 야구부 감독 \"팀 한명도 소외 없도록 정성껏 훈련 지도\"', '[즐거운 우리학교] 이공열 안산공고 교장 \"우수학생 진학하고픈 명문학교 조성\"', '안산공고, 전국기능경기대회 경기도 참가학교 1위 달성', '안산 공업고등학교, 34개 강소기업과 학생 취업맞춤 반 협약식', \"안산시 청소년재단, 메이커 스페이스 '제1회 메이커 DALTHON대회' 개최\", '대전고, 제56회 대통령배 전국고교야구대회 결승 진출, 안산공업고에 18대4 대승', '안산 공업고등학교, 제57회 전국기능경기대회 경기도 참가학교 1위', '안산시, 선행 베푼 안산공업고등학교 김민재·노충남 학생에 표창장 수여', \"안산공업고등학교, 3D프린팅로봇제작 연구반 '프로젝트 수업발표회'\", '[즐거운 우리학교] 송원국 안산공고 야구부 감독 \"팀 한명도 소외 없도록 정성껏 훈련 지도\"', '[즐거운 우리학교] 이공열 안산공고 교장 \"우수학생 진학하고픈 명문학교 조성\"', '안산공고, 전국기능경기대회 경기도 참가학교 1위 달성', '안산 공업고등학교, 34개 강소기업과 학생 취업맞춤 반 협약식', \"안산시 청소년재단, 메이커 스페이스 '제1회 메이커 DALTHON대회' 개최\", '대전고, 제56회 대통령배 전국고교야구대회 결승 진출, 안산공업고에 18대4 대승', \"이민근 안산시장, '이재민 위로하고 선행 베푼 안산공고 학생들 표창장도 수여'\", '안산시, 선행 베푼 안산공업고등학교 김민재·노충남 학생에 표창장 수여', \"안산공업고등학교, 3D프린팅로봇제작 연구반 '프로젝트 수업발표회'\", '[즐거운 우리학교] 송원국 안산공고 야구부 감독 \"팀 한명도 소외 없도록 정성껏 훈련 지도\"', '[즐거운 우리학교] 이공열 안산공고 교장 \"우수학생 진학하고픈 명문학교 조성\"', '안산공고, 전국기능경기대회 경기도 참가학교 1위 달성', '안산 공업고등학교, 34개 강소기업과 학생 취업맞춤 반 협약식', \"안산시 청소년재단, 메이커 스페이스 '제1회 메이커 DALTHON대회' 개최\", '대전고, 제56회 대통령배 전국고교야구대회 결승 진출, 안산공업고에 18대4 대승', \"이민근 안산시장, '이재민 위로하고 선행 베푼 안산공고 학생들 표창장도 수여'\", '안산공업고, 56회 대통령배 전국고교야구대회 4강 진출...덕수고에 10대2 콜드게임 승', \"안산공업고등학교, 3D프린팅로봇제작 연구반 '프로젝트 수업발표회'\", '[즐거운 우리학교] 송원국 안산공고 야구부 감독 \"팀 한명도 소외 없도록 정성껏 훈련 지도\"', '[즐거운 우리학교] 이공열 안산공고 교장 \"우수학생 진학하고픈 명문학교 조성\"', '안산공고, 전국기능경기대회 경기도 참가학교 1위 달성', '안산 공업고등학교, 34개 강소기업과 학생 취업맞춤 반 협약식', \"안산시 청소년재단, 메이커 스페이스 '제1회 메이커 DALTHON대회' 개최\", '대전고, 제56회 대통령배 전국고교야구대회 결승 진출, 안산공업고에 18대4 대승', \"이민근 안산시장, '이재민 위로하고 선행 베푼 안산공고 학생들 표창장도 수여'\", '안산공업고, 56회 대통령배 전국고교야구대회 4강 진출...덕수고에 10대2 콜드게임 승', '[대통령배 고교야구대회] 안산공고, 덕수고에 10대2 승리...준결승·결승전 중계는?']\n"
          ]
        }
      ]
    },
    {
      "cell_type": "code",
      "source": [
        "!pip install konlpy"
      ],
      "metadata": {
        "colab": {
          "base_uri": "https://localhost:8080/"
        },
        "id": "oXzFvluyk0bd",
        "outputId": "f9648822-c38d-4ca6-8ab0-d1555e87efc5"
      },
      "execution_count": 3,
      "outputs": [
        {
          "output_type": "stream",
          "name": "stdout",
          "text": [
            "Looking in indexes: https://pypi.org/simple, https://us-python.pkg.dev/colab-wheels/public/simple/\n",
            "Collecting konlpy\n",
            "  Downloading konlpy-0.6.0-py2.py3-none-any.whl (19.4 MB)\n",
            "\u001b[K     |████████████████████████████████| 19.4 MB 5.9 MB/s \n",
            "\u001b[?25hRequirement already satisfied: numpy>=1.6 in /usr/local/lib/python3.7/dist-packages (from konlpy) (1.21.6)\n",
            "Requirement already satisfied: lxml>=4.1.0 in /usr/local/lib/python3.7/dist-packages (from konlpy) (4.9.1)\n",
            "Collecting JPype1>=0.7.0\n",
            "  Downloading JPype1-1.4.1-cp37-cp37m-manylinux_2_12_x86_64.manylinux2010_x86_64.whl (465 kB)\n",
            "\u001b[K     |████████████████████████████████| 465 kB 44.8 MB/s \n",
            "\u001b[?25hRequirement already satisfied: typing-extensions in /usr/local/lib/python3.7/dist-packages (from JPype1>=0.7.0->konlpy) (4.1.1)\n",
            "Requirement already satisfied: packaging in /usr/local/lib/python3.7/dist-packages (from JPype1>=0.7.0->konlpy) (21.3)\n",
            "Requirement already satisfied: pyparsing!=3.0.5,>=2.0.2 in /usr/local/lib/python3.7/dist-packages (from packaging->JPype1>=0.7.0->konlpy) (3.0.9)\n",
            "Installing collected packages: JPype1, konlpy\n",
            "Successfully installed JPype1-1.4.1 konlpy-0.6.0\n"
          ]
        }
      ]
    },
    {
      "cell_type": "code",
      "source": [
        "from konlpy.tag import Kkma\n",
        "from konlpy.utils import pprint\n",
        "\n",
        "def classification() :\n",
        "  temp = []\n",
        "  noun_list = []\n",
        "  kkma = Kkma()\n",
        "  titles = naver_news_get(1,10)\n",
        "  for title in titles :\n",
        "    morph = kkma.pos(title)\n",
        "    temp.append(morph)\n",
        "  \n",
        "  #print(temp)\n",
        "  \n",
        "  for sentence in temp :\n",
        "    for word, tag in sentence :\n",
        "      if tag in ['NNG'] :\n",
        "         noun_list.append(word)\n",
        "  #print(noun_adj_list)\n",
        "  return noun_list\n",
        "print(classification())"
      ],
      "metadata": {
        "colab": {
          "base_uri": "https://localhost:8080/"
        },
        "id": "lH1IXBjJmyj4",
        "outputId": "f8d5f59f-bb22-41f2-c529-2fff7e930d7e"
      },
      "execution_count": 8,
      "outputs": [
        {
          "output_type": "stream",
          "name": "stdout",
          "text": [
            "['안산', '공업', '고등학교', '윤', '지은', '선수', '국제', '기능', '올림픽', '대회', '디지털', '게임', '아트', '분야', '은메달', '수상', '학교', '안산', '공업', '고등학교', '체계적', '지원', '공부', '야구부', '실력', '우정', '모두', '홈런', '안산', '공업', '고등학교', '전국', '기능', '경기', '대회', '참가', '학교', '선행', '안산', '공업', '고등학교', '김', '민', '재', '노', '충남', '학생', '표창장', '수여', '안산', '공업', '고등학교', '프린팅', '로봇', '제작', '연구', '반', '프로젝트', '수업', '발표회', '학교', '송', '원국', '안산', '공고', '야구부', '감독', '팀', '한명', '소외', '훈련', '지도', '학교', '이공', '열', '안산', '공고', '교장', '우수', '학생', '진학', '명문', '학교', '조성', '안산', '공고', '전국', '기능', '경기', '대회', '참가', '학교', '달성', '안산', '공업', '고등학교', '강', '소기업', '학생', '취업', '맞춤', '반', '협약', '청소년', '재단', '메이커', '톤', '대회', '학교', '안산', '공업', '고등학교', '체계적', '지원', '공부', '야구부', '실력', '우정', '모두', '홈런', '안산', '공업', '고등학교', '전국', '기능', '경기', '대회', '참가', '학교', '선행', '안산', '공업', '고등학교', '김', '민', '재', '노', '충남', '학생', '표창장', '수여', '안산', '공업', '고등학교', '프린팅', '로봇', '제작', '연구', '반', '프로젝트', '수업', '발표회', '학교', '송', '원국', '안산', '공고', '야구부', '감독', '팀', '한명', '소외', '훈련', '지도', '학교', '이공', '열', '안산', '공고', '교장', '우수', '학생', '진학', '명문', '학교', '조성', '안산', '공고', '전국', '기능', '경기', '대회', '참가', '학교', '달성', '안산', '공업', '고등학교', '강', '소기업', '학생', '취업', '맞춤', '반', '협약', '청소년', '재단', '메이', '스페이스', '메이커', '대회', '개최', '전고', '대통령', '배', '전국', '고교', '야구', '대회', '결승', '진출', '안산', '공업', '대승', '안산', '공업', '고등학교', '전국', '기능', '경기', '대회', '참가', '학교', '선행', '안산', '공업', '고등학교', '김', '민', '재', '노', '충남', '학생', '표창장', '수여', '안산', '공업', '고등학교', '프린팅', '로봇', '제작', '연구', '반', '프로젝트', '수업', '발표회', '학교', '송', '원국', '안산', '공고', '야구부', '감독', '팀', '한명', '소외', '훈련', '지도', '학교', '이공', '열', '안산', '공고', '교장', '우수', '학생', '진학', '명문', '학교', '조성', '안산', '공고', '전국', '기능', '경기', '대회', '참가', '학교', '달성', '안산', '공업', '고등학교', '강', '소기업', '학생', '취업', '맞춤', '반', '협약', '청소년', '재단', '메이', '스페이스', '메이커', '대회', '개최', '전고', '대통령', '배', '전국', '고교', '야구', '대회', '결승', '진출', '안산', '공업', '대승', '이민', '근', '안산', '시장', '이재', '민', '위', '선행', '안산', '공고', '학생', '표창장', '수여', '선행', '안산', '공업', '고등학교', '김', '민', '재', '노', '충남', '학생', '표창장', '수여', '안산', '공업', '고등학교', '프린팅', '로봇', '제작', '연구', '반', '프로젝트', '수업', '발표회', '학교', '송', '원국', '안산', '공고', '야구부', '감독', '팀', '한명', '소외', '훈련', '지도', '학교', '이공', '열', '안산', '공고', '교장', '우수', '학생', '진학', '명문', '학교', '조성', '안산', '공고', '전국', '기능', '경기', '대회', '참가', '학교', '달성', '안산', '공업', '고등학교', '강', '소기업', '학생', '취업', '맞춤', '반', '협약', '청소년', '재단', '메이', '스페이스', '메이커', '대회', '개최', '전고', '대통령', '배', '전국', '고교', '야구', '대회', '결승', '진출', '안산', '공업', '대승', '이민', '근', '안산', '시장', '이재', '민', '위', '선행', '안산', '공고', '학생', '표창장', '수여', '안산', '공업', '대통령', '배', '전국', '고교', '야구', '대회', '강', '진출', '덕', '수고', '콜', '게임', '승', '안산', '공업', '고등학교', '프린팅', '로봇', '제작', '연구', '반', '프로젝트', '수업', '발표회', '학교', '송', '원국', '안산', '공고', '야구부', '감독', '팀', '한명', '소외', '훈련', '지도', '학교', '이공', '열', '안산', '공고', '교장', '우수', '학생', '진학', '명문', '학교', '조성', '안산', '공고', '전국', '기능', '경기', '대회', '참가', '학교', '달성', '안산', '공업', '고등학교', '강', '소기업', '학생', '취업', '맞춤', '반', '협약', '청소년', '재단', '메이', '스페이스', '메이커', '대회', '개최', '전고', '대통령', '배', '전국', '고교', '야구', '대회', '결승', '진출', '안산', '공업', '대승', '이민', '근', '안산', '시장', '이재', '민', '위', '선행', '안산', '공고', '학생', '표창장', '수여', '안산', '공업', '대통령', '배', '전국', '고교', '야구', '대회', '강', '진출', '덕', '수고', '콜', '게임', '승', '대통령', '배', '고교', '야구', '대회', '안산', '공고', '덕', '수고', '승리', '준결승', '결승전', '중계', '안산', '공업', '고등학교', '윤', '지은', '선수', '국제', '기능', '올림픽', '대회', '디지털', '게임', '아트', '분야', '은메달', '수상', '학교', '안산', '공업', '고등학교', '체계적', '지원', '공부', '야구부', '실력', '우정', '모두', '홈런', '안산', '공업', '고등학교', '전국', '기능', '경기', '대회', '참가', '학교', '선행', '안산', '공업', '고등학교', '김', '민', '재', '노', '충남', '학생', '표창장', '수여', '안산', '공업', '고등학교', '프린팅', '로봇', '제작', '연구', '반', '프로젝트', '수업', '발표회', '학교', '송', '원국', '안산', '공고', '야구부', '감독', '팀', '한명', '소외', '훈련', '지도', '학교', '이공', '열', '안산', '공고', '교장', '우수', '학생', '진학', '명문', '학교', '조성', '안산', '공고', '전국', '기능', '경기', '대회', '참가', '학교', '달성', '안산', '공업', '고등학교', '강', '소기업', '학생', '취업', '맞춤', '반', '협약', '청소년', '재단', '메이커', '톤', '대회', '학교', '안산', '공업', '고등학교', '체계적', '지원', '공부', '야구부', '실력', '우정', '모두', '홈런', '안산', '공업', '고등학교', '전국', '기능', '경기', '대회', '참가', '학교', '선행', '안산', '공업', '고등학교', '김', '민', '재', '노', '충남', '학생', '표창장', '수여', '안산', '공업', '고등학교', '프린팅', '로봇', '제작', '연구', '반', '프로젝트', '수업', '발표회', '학교', '송', '원국', '안산', '공고', '야구부', '감독', '팀', '한명', '소외', '훈련', '지도', '학교', '이공', '열', '안산', '공고', '교장', '우수', '학생', '진학', '명문', '학교', '조성', '안산', '공고', '전국', '기능', '경기', '대회', '참가', '학교', '달성', '안산', '공업', '고등학교', '강', '소기업', '학생', '취업', '맞춤', '반', '협약', '청소년', '재단', '메이', '스페이스', '메이커', '대회', '개최', '전고', '대통령', '배', '전국', '고교', '야구', '대회', '결승', '진출', '안산', '공업', '대승', '안산', '공업', '고등학교', '전국', '기능', '경기', '대회', '참가', '학교', '선행', '안산', '공업', '고등학교', '김', '민', '재', '노', '충남', '학생', '표창장', '수여', '안산', '공업', '고등학교', '프린팅', '로봇', '제작', '연구', '반', '프로젝트', '수업', '발표회', '학교', '송', '원국', '안산', '공고', '야구부', '감독', '팀', '한명', '소외', '훈련', '지도', '학교', '이공', '열', '안산', '공고', '교장', '우수', '학생', '진학', '명문', '학교', '조성', '안산', '공고', '전국', '기능', '경기', '대회', '참가', '학교', '달성', '안산', '공업', '고등학교', '강', '소기업', '학생', '취업', '맞춤', '반', '협약', '청소년', '재단', '메이', '스페이스', '메이커', '대회', '개최', '전고', '대통령', '배', '전국', '고교', '야구', '대회', '결승', '진출', '안산', '공업', '대승', '이민', '근', '안산', '시장', '이재', '민', '위', '선행', '안산', '공고', '학생', '표창장', '수여', '선행', '안산', '공업', '고등학교', '김', '민', '재', '노', '충남', '학생', '표창장', '수여', '안산', '공업', '고등학교', '프린팅', '로봇', '제작', '연구', '반', '프로젝트', '수업', '발표회', '학교', '송', '원국', '안산', '공고', '야구부', '감독', '팀', '한명', '소외', '훈련', '지도', '학교', '이공', '열', '안산', '공고', '교장', '우수', '학생', '진학', '명문', '학교', '조성', '안산', '공고', '전국', '기능', '경기', '대회', '참가', '학교', '달성', '안산', '공업', '고등학교', '강', '소기업', '학생', '취업', '맞춤', '반', '협약', '청소년', '재단', '메이', '스페이스', '메이커', '대회', '개최', '전고', '대통령', '배', '전국', '고교', '야구', '대회', '결승', '진출', '안산', '공업', '대승', '이민', '근', '안산', '시장', '이재', '민', '위', '선행', '안산', '공고', '학생', '표창장', '수여', '안산', '공업', '대통령', '배', '전국', '고교', '야구', '대회', '강', '진출', '덕', '수고', '콜', '게임', '승', '안산', '공업', '고등학교', '프린팅', '로봇', '제작', '연구', '반', '프로젝트', '수업', '발표회', '학교', '송', '원국', '안산', '공고', '야구부', '감독', '팀', '한명', '소외', '훈련', '지도', '학교', '이공', '열', '안산', '공고', '교장', '우수', '학생', '진학', '명문', '학교', '조성', '안산', '공고', '전국', '기능', '경기', '대회', '참가', '학교', '달성', '안산', '공업', '고등학교', '강', '소기업', '학생', '취업', '맞춤', '반', '협약', '청소년', '재단', '메이', '스페이스', '메이커', '대회', '개최', '전고', '대통령', '배', '전국', '고교', '야구', '대회', '결승', '진출', '안산', '공업', '대승', '이민', '근', '안산', '시장', '이재', '민', '위', '선행', '안산', '공고', '학생', '표창장', '수여', '안산', '공업', '대통령', '배', '전국', '고교', '야구', '대회', '강', '진출', '덕', '수고', '콜', '게임', '승', '대통령', '배', '고교', '야구', '대회', '안산', '공고', '덕', '수고', '승리', '준결승', '결승전', '중계', '학교', '송', '원국', '안산', '공고', '야구부', '감독', '팀', '한명', '소외', '훈련', '지도', '학교', '이공', '열', '안산', '공고', '교장', '우수', '학생', '진학', '명문', '학교', '조성', '안산', '공고', '전국', '기능', '경기', '대회', '참가', '학교', '달성', '안산', '공업', '고등학교', '강', '소기업', '학생', '취업', '맞춤', '반', '협약', '청소년', '재단', '메이', '스페이스', '메이커', '대회', '개최', '전고', '대통령', '배', '전국', '고교', '야구', '대회', '결승', '진출', '안산', '공업', '대승', '이민', '근', '안산', '시장', '이재', '민', '위', '선행', '안산', '공고', '학생', '표창장', '수여', '안산', '공업', '대통령', '배', '전국', '고교', '야구', '대회', '강', '진출', '덕', '수고', '콜', '게임', '승', '대통령', '배', '고교', '야구', '대회', '안산', '공고', '덕', '수고', '승리', '준결승', '결승전', '중계', '안산', '공업', '고등학교', '정보', '통신', '임기', '제전', '문', '기술', '부', '사관', '양성', '군', '특성화', '과정', '발대식', '학교', '이공', '열', '안산', '공고', '교장', '우수', '학생', '진학', '명문', '학교', '조성', '안산', '공고', '전국', '기능', '경기', '대회', '참가', '학교', '달성', '안산', '공업', '고등학교', '강', '소기업', '학생', '취업', '맞춤', '반', '협약', '청소년', '재단', '메이', '스페이스', '메이커', '대회', '개최', '전고', '대통령', '배', '전국', '고교', '야구', '대회', '결승', '진출', '안산', '공업', '대승', '이민', '근', '안산', '시장', '이재', '민', '위', '선행', '안산', '공고', '학생', '표창장', '수여', '안산', '공업', '대통령', '배', '전국', '고교', '야구', '대회', '강', '진출', '덕', '수고', '콜', '게임', '승', '대통령', '배', '고교', '야구', '대회', '안산', '공고', '덕', '수고', '승리', '준결승', '결승전', '중계', '안산', '공업', '고등학교', '정보', '통신', '임기', '제전', '문', '기술', '부', '사관', '양성', '군', '특성화', '과정', '발대식', '일', '소식', '이민', '근', '안산', '시장', '반월', '동', '이재민', '대피소', '등', '안산', '공고', '전국', '기능', '경기', '대회', '참가', '학교', '달성', '안산', '공업', '고등학교', '강', '소기업', '학생', '취업', '맞춤', '반', '협약', '청소년', '재단', '메이', '스페이스', '메이커', '대회', '개최', '전고', '대통령', '배', '전국', '고교', '야구', '대회', '결승', '진출', '안산', '공업', '대승', '이민', '근', '안산', '시장', '이재', '민', '위', '선행', '안산', '공고', '학생', '표창장', '수여', '안산', '공업', '대통령', '배', '전국', '고교', '야구', '대회', '강', '진출', '덕', '수고', '콜', '게임', '승', '대통령', '배', '고교', '야구', '대회', '안산', '공고', '덕', '수고', '승리', '준결승', '결승전', '중계', '안산', '공업', '고등학교', '정보', '통신', '임기', '제전', '문', '기술', '부', '사관', '양성', '군', '특성화', '과정', '발대식', '일', '소식', '이민', '근', '안산', '시장', '반월', '동', '이재민', '대피소', '등', '안산', '공업', '고등학교', '기능', '경기', '대회', '종합', '우승', '안산', '공업', '고등학교', '강', '소기업', '학생', '취업', '맞춤', '반', '협약', '청소년', '재단', '메이', '스페이스', '메이커', '대회', '개최', '전고', '대통령', '배', '전국', '고교', '야구', '대회', '결승', '진출', '안산', '공업', '대승', '이민', '근', '안산', '시장', '이재', '민', '위', '선행', '안산', '공고', '학생', '표창장', '수여', '안산', '공업', '대통령', '배', '전국', '고교', '야구', '대회', '강', '진출', '덕', '수고', '콜', '게임', '승', '대통령', '배', '고교', '야구', '대회', '안산', '공고', '덕', '수고', '승리', '준결승', '결승전', '중계', '안산', '공업', '고등학교', '정보', '통신', '임기', '제전', '문', '기술', '부', '사관', '양성', '군', '특성화', '과정', '발대식', '일', '소식', '이민', '근', '안산', '시장', '반월', '동', '이재민', '대피소', '등', '안산', '공업', '고등학교', '기능', '경기', '대회', '종합', '우승', '선행', '안산', '공고', '학생', '표창장', '수여', '청소년', '재단', '메이', '스페이스', '메이커', '대회', '개최', '전고', '대통령', '배', '전국', '고교', '야구', '대회', '결승', '진출', '안산', '공업', '대승', '이민', '근', '안산', '시장', '이재', '민', '위', '선행', '안산', '공고', '학생', '표창장', '수여', '안산', '공업', '대통령', '배', '전국', '고교', '야구', '대회', '강', '진출', '덕', '수고', '콜', '게임', '승', '대통령', '배', '고교', '야구', '대회', '안산', '공고', '덕', '수고', '승리', '준결승', '결승전', '중계', '안산', '공업', '고등학교', '정보', '통신', '임기', '제전', '문', '기술', '부', '사관', '양성', '군', '특성화', '과정', '발대식', '일', '소식', '이민', '근', '안산', '시장', '반월', '동', '이재민', '대피소', '등', '안산', '공업', '고등학교', '기능', '경기', '대회', '종합', '우승', '선행', '안산', '공고', '학생', '표창장', '수여', '문학', '야구장', '입성', '고교', '팀', '학교']\n"
          ]
        }
      ]
    },
    {
      "cell_type": "code",
      "source": [
        "from collections import Counter\n",
        "\n",
        "def word_count() :\n",
        "  temp_list = classification()\n",
        "  counts = Counter(temp_list)\n",
        "  tags = counts.most_common(15) # 15개 명사만\n",
        "  \n",
        "  return tags\n",
        "\n",
        "print(word_count())"
      ],
      "metadata": {
        "colab": {
          "base_uri": "https://localhost:8080/"
        },
        "id": "cm53jZ7lm_Pw",
        "outputId": "3fa98cad-5c32-40d8-8ce6-5c196e0ed2f9"
      },
      "execution_count": 9,
      "outputs": [
        {
          "output_type": "stream",
          "name": "stdout",
          "text": [
            "[('안산', 242), ('공업', 122), ('대회', 115), ('학교', 93), ('공고', 93), ('고등학교', 84), ('학생', 77), ('전국', 68), ('고교', 53), ('대통령', 51), ('배', 51), ('야구', 51), ('기능', 39), ('강', 39), ('반', 38)]\n"
          ]
        }
      ]
    },
    {
      "cell_type": "code",
      "source": [
        "!pip install wordcloud"
      ],
      "metadata": {
        "colab": {
          "base_uri": "https://localhost:8080/"
        },
        "id": "gzgaq-ihoS17",
        "outputId": "6b1d41fd-3c52-42e7-afe6-52ee2d4ed801"
      },
      "execution_count": 10,
      "outputs": [
        {
          "output_type": "stream",
          "name": "stdout",
          "text": [
            "Looking in indexes: https://pypi.org/simple, https://us-python.pkg.dev/colab-wheels/public/simple/\n",
            "Requirement already satisfied: wordcloud in /usr/local/lib/python3.7/dist-packages (1.8.2.2)\n",
            "Requirement already satisfied: matplotlib in /usr/local/lib/python3.7/dist-packages (from wordcloud) (3.2.2)\n",
            "Requirement already satisfied: pillow in /usr/local/lib/python3.7/dist-packages (from wordcloud) (7.1.2)\n",
            "Requirement already satisfied: numpy>=1.6.1 in /usr/local/lib/python3.7/dist-packages (from wordcloud) (1.21.6)\n",
            "Requirement already satisfied: kiwisolver>=1.0.1 in /usr/local/lib/python3.7/dist-packages (from matplotlib->wordcloud) (1.4.4)\n",
            "Requirement already satisfied: cycler>=0.10 in /usr/local/lib/python3.7/dist-packages (from matplotlib->wordcloud) (0.11.0)\n",
            "Requirement already satisfied: python-dateutil>=2.1 in /usr/local/lib/python3.7/dist-packages (from matplotlib->wordcloud) (2.8.2)\n",
            "Requirement already satisfied: pyparsing!=2.0.4,!=2.1.2,!=2.1.6,>=2.0.1 in /usr/local/lib/python3.7/dist-packages (from matplotlib->wordcloud) (3.0.9)\n",
            "Requirement already satisfied: typing-extensions in /usr/local/lib/python3.7/dist-packages (from kiwisolver>=1.0.1->matplotlib->wordcloud) (4.1.1)\n",
            "Requirement already satisfied: six>=1.5 in /usr/local/lib/python3.7/dist-packages (from python-dateutil>=2.1->matplotlib->wordcloud) (1.15.0)\n"
          ]
        }
      ]
    },
    {
      "cell_type": "code",
      "source": [
        "!sudo apt-get install -y fonts-nanum"
      ],
      "metadata": {
        "colab": {
          "base_uri": "https://localhost:8080/"
        },
        "id": "hGXUWjlqoorS",
        "outputId": "1efe0452-b22f-49ae-be91-d19a9126a610"
      },
      "execution_count": 11,
      "outputs": [
        {
          "output_type": "stream",
          "name": "stdout",
          "text": [
            "Reading package lists... Done\n",
            "Building dependency tree       \n",
            "Reading state information... Done\n",
            "The following package was automatically installed and is no longer required:\n",
            "  libnvidia-common-460\n",
            "Use 'sudo apt autoremove' to remove it.\n",
            "The following NEW packages will be installed:\n",
            "  fonts-nanum\n",
            "0 upgraded, 1 newly installed, 0 to remove and 4 not upgraded.\n",
            "Need to get 9,604 kB of archives.\n",
            "After this operation, 29.5 MB of additional disk space will be used.\n",
            "Get:1 http://archive.ubuntu.com/ubuntu bionic/universe amd64 fonts-nanum all 20170925-1 [9,604 kB]\n",
            "Fetched 9,604 kB in 1s (8,136 kB/s)\n",
            "debconf: unable to initialize frontend: Dialog\n",
            "debconf: (No usable dialog-like program is installed, so the dialog based frontend cannot be used. at /usr/share/perl5/Debconf/FrontEnd/Dialog.pm line 76, <> line 1.)\n",
            "debconf: falling back to frontend: Readline\n",
            "debconf: unable to initialize frontend: Readline\n",
            "debconf: (This frontend requires a controlling tty.)\n",
            "debconf: falling back to frontend: Teletype\n",
            "dpkg-preconfigure: unable to re-open stdin: \n",
            "Selecting previously unselected package fonts-nanum.\n",
            "(Reading database ... 123942 files and directories currently installed.)\n",
            "Preparing to unpack .../fonts-nanum_20170925-1_all.deb ...\n",
            "Unpacking fonts-nanum (20170925-1) ...\n",
            "Setting up fonts-nanum (20170925-1) ...\n",
            "Processing triggers for fontconfig (2.12.6-0ubuntu2) ...\n"
          ]
        }
      ]
    },
    {
      "cell_type": "code",
      "source": [
        "!sudo fc-cache -fv\n",
        "!rm ~/.cache/matplotlib -rf"
      ],
      "metadata": {
        "colab": {
          "base_uri": "https://localhost:8080/"
        },
        "id": "cgJwLwYuo4ip",
        "outputId": "6242748d-56af-4eeb-8225-d1cd00a1abe3"
      },
      "execution_count": 12,
      "outputs": [
        {
          "output_type": "stream",
          "name": "stdout",
          "text": [
            "/usr/share/fonts: caching, new cache contents: 0 fonts, 1 dirs\n",
            "/usr/share/fonts/truetype: caching, new cache contents: 0 fonts, 3 dirs\n",
            "/usr/share/fonts/truetype/humor-sans: caching, new cache contents: 1 fonts, 0 dirs\n",
            "/usr/share/fonts/truetype/liberation: caching, new cache contents: 16 fonts, 0 dirs\n",
            "/usr/share/fonts/truetype/nanum: caching, new cache contents: 10 fonts, 0 dirs\n",
            "/usr/local/share/fonts: caching, new cache contents: 0 fonts, 0 dirs\n",
            "/root/.local/share/fonts: skipping, no such directory\n",
            "/root/.fonts: skipping, no such directory\n",
            "/var/cache/fontconfig: cleaning cache directory\n",
            "/root/.cache/fontconfig: not cleaning non-existent cache directory\n",
            "/root/.fontconfig: not cleaning non-existent cache directory\n",
            "fc-cache: succeeded\n"
          ]
        }
      ]
    },
    {
      "cell_type": "code",
      "source": [
        "plt.rc('font', family='NanumBarunGothic')\n",
        "cloud = wc.generate_from_frequencies(dict(word_count()))\n",
        "#print(cloud)\n",
        "plt.figure(figsize=(10,8))\n",
        "plt.axis('off')\n",
        "plt.imshow(cloud)\n",
        "plt.show()"
      ],
      "metadata": {
        "colab": {
          "base_uri": "https://localhost:8080/",
          "height": 246
        },
        "id": "JqXlAXEdqlUY",
        "outputId": "422ef81c-4a93-4ee3-f016-8ed42a0fad1d"
      },
      "execution_count": 13,
      "outputs": [
        {
          "output_type": "error",
          "ename": "NameError",
          "evalue": "ignored",
          "traceback": [
            "\u001b[0;31m---------------------------------------------------------------------------\u001b[0m",
            "\u001b[0;31mNameError\u001b[0m                                 Traceback (most recent call last)",
            "\u001b[0;32m<ipython-input-13-ed0dba8c1f12>\u001b[0m in \u001b[0;36m<module>\u001b[0;34m\u001b[0m\n\u001b[0;32m----> 1\u001b[0;31m \u001b[0mplt\u001b[0m\u001b[0;34m.\u001b[0m\u001b[0mrc\u001b[0m\u001b[0;34m(\u001b[0m\u001b[0;34m'font'\u001b[0m\u001b[0;34m,\u001b[0m \u001b[0mfamily\u001b[0m\u001b[0;34m=\u001b[0m\u001b[0;34m'NanumBarunGothic'\u001b[0m\u001b[0;34m)\u001b[0m\u001b[0;34m\u001b[0m\u001b[0;34m\u001b[0m\u001b[0m\n\u001b[0m\u001b[1;32m      2\u001b[0m \u001b[0mcloud\u001b[0m \u001b[0;34m=\u001b[0m \u001b[0mwc\u001b[0m\u001b[0;34m.\u001b[0m\u001b[0mgenerate_from_frequencies\u001b[0m\u001b[0;34m(\u001b[0m\u001b[0mdict\u001b[0m\u001b[0;34m(\u001b[0m\u001b[0mword_count\u001b[0m\u001b[0;34m(\u001b[0m\u001b[0;34m)\u001b[0m\u001b[0;34m)\u001b[0m\u001b[0;34m)\u001b[0m\u001b[0;34m\u001b[0m\u001b[0;34m\u001b[0m\u001b[0m\n\u001b[1;32m      3\u001b[0m \u001b[0;31m#print(cloud)\u001b[0m\u001b[0;34m\u001b[0m\u001b[0;34m\u001b[0m\u001b[0;34m\u001b[0m\u001b[0m\n\u001b[1;32m      4\u001b[0m \u001b[0mplt\u001b[0m\u001b[0;34m.\u001b[0m\u001b[0mfigure\u001b[0m\u001b[0;34m(\u001b[0m\u001b[0mfigsize\u001b[0m\u001b[0;34m=\u001b[0m\u001b[0;34m(\u001b[0m\u001b[0;36m10\u001b[0m\u001b[0;34m,\u001b[0m\u001b[0;36m8\u001b[0m\u001b[0;34m)\u001b[0m\u001b[0;34m)\u001b[0m\u001b[0;34m\u001b[0m\u001b[0;34m\u001b[0m\u001b[0m\n\u001b[1;32m      5\u001b[0m \u001b[0mplt\u001b[0m\u001b[0;34m.\u001b[0m\u001b[0maxis\u001b[0m\u001b[0;34m(\u001b[0m\u001b[0;34m'off'\u001b[0m\u001b[0;34m)\u001b[0m\u001b[0;34m\u001b[0m\u001b[0;34m\u001b[0m\u001b[0m\n",
            "\u001b[0;31mNameError\u001b[0m: name 'plt' is not defined"
          ]
        }
      ]
    },
    {
      "cell_type": "code",
      "source": [
        "import copy\n",
        "import sys\n",
        "\n",
        "TOTAL_DISKS = 5\n",
        "\n",
        "COMPLETE_TOWER = list(range(TOTAL_DISKS, 0, -1))\n",
        "#print(COMPLETE_TOWER)\n",
        "\n",
        "def main() :\n",
        "  towers = {'A':copy.copy(COMPLETE_TOWER), \"B\": [], \"C\": []}\n",
        "  #print(towers[\"A\"])\n",
        "\n",
        "  while True :\n",
        "    displayTowers(towers)\n",
        "    fromTower, toTower = askForPlayerMove(towers)\n",
        "\n",
        "    disk = towers[fromTower].pop()\n",
        "    towers[toTower].append(disk)\n",
        "\n",
        "    if COMPLETE_TOWER in (towers['B'], towers['C']) :\n",
        "      displayTowers(towers)\n",
        "      print(\"You have solved the puzzle! Well done!\")\n",
        "      sys.exit(0)\n",
        "\n",
        "def askForPlayerMove(towers) :\n",
        "  while True :\n",
        "    print(\"Enter the letters of 'from' and 'to' towers, or QUIT.\")\n",
        "    response = input(\"> \").upper().strip()\n",
        "\n",
        "    if response == 'QUIT' :\n",
        "      print(\"Thanks for playing!\")\n",
        "      sys.exit()\n",
        "    \n",
        "    if response not in ('AB', 'AC', 'BA', 'BC', 'CA', 'CB') :\n",
        "      print(\"Enter one of AB, AC, BA, CA, or CB.\")\n",
        "      continue\n",
        "    \n",
        "    fromTower, toTower = response[0], response[1]\n",
        "\n",
        "    if len(towers[fromTower]) == 0 :\n",
        "      print(\"You selected a tower with no disk.\")\n",
        "      continue\n",
        "    elif len(towers[toTower]) == 0:\n",
        "      return fromTower, toTower\n",
        "    elif towers[toTower][-1] < towers[fromTower][-1] :\n",
        "      print(\"Can\\'t put larger disks on top of smaller ones.\")\n",
        "      continue\n",
        "    else :\n",
        "      return fromTower, toTower\n",
        "\n",
        "def displayTowers(towers) :\n",
        "\n",
        "  for level in range(TOTAL_DISKS, 0, -1):\n",
        "    for tower in (towers['A'], towers['B'], towers['C']) :\n",
        "      if level > len(tower) :\n",
        "        displayDisk(0)\n",
        "      else :\n",
        "        displayDisk(tower[level-1])\n",
        "    print()\n",
        "  emptySpace = ' ' * (TOTAL_DISKS)\n",
        "  print('{0} A{0}{0} B{0}{0} C\\n'.format(emptySpace))\n",
        "def displayDisk(width) :\n",
        "  emptySpace = ' ' * (TOTAL_DISKS - width)\n",
        "\n",
        "  if width == 0 :\n",
        "    print(emptySpace + '||' + emptySpace, end='')\n",
        "  else :\n",
        "    disk = '@' * width\n",
        "    numLabel = str(width).rjust(2, '_')\n",
        "    print(emptySpace + disk + numLabel + disk + emptySpace, end='')\n",
        "\n",
        "if __name__ == \"__main__\" :\n",
        "  main()"
      ],
      "metadata": {
        "colab": {
          "base_uri": "https://localhost:8080/",
          "height": 727
        },
        "id": "nWKB6imPwSpX",
        "outputId": "1961cdb5-3c34-4293-caa5-0f1114a50e72"
      },
      "execution_count": 15,
      "outputs": [
        {
          "output_type": "stream",
          "name": "stdout",
          "text": [
            "    @_1@         ||          ||     \n",
            "   @@_2@@        ||          ||     \n",
            "  @@@_3@@@       ||          ||     \n",
            " @@@@_4@@@@      ||          ||     \n",
            "@@@@@_5@@@@@     ||          ||     \n",
            "      A           B           C\n",
            "\n",
            "Enter the letters of 'from' and 'to' towers, or QUIT.\n",
            "> AC\n",
            "     ||          ||          ||     \n",
            "   @@_2@@        ||          ||     \n",
            "  @@@_3@@@       ||          ||     \n",
            " @@@@_4@@@@      ||          ||     \n",
            "@@@@@_5@@@@@     ||         @_1@    \n",
            "      A           B           C\n",
            "\n",
            "Enter the letters of 'from' and 'to' towers, or QUIT.\n",
            "> AC\n",
            "Can't put larger disks on top of smaller ones.\n",
            "Enter the letters of 'from' and 'to' towers, or QUIT.\n"
          ]
        },
        {
          "output_type": "error",
          "ename": "KeyboardInterrupt",
          "evalue": "ignored",
          "traceback": [
            "\u001b[0;31m---------------------------------------------------------------------------\u001b[0m",
            "\u001b[0;31mKeyboardInterrupt\u001b[0m                         Traceback (most recent call last)",
            "\u001b[0;32m<ipython-input-15-92cef46bdd64>\u001b[0m in \u001b[0;36m<module>\u001b[0;34m\u001b[0m\n\u001b[1;32m     71\u001b[0m \u001b[0;34m\u001b[0m\u001b[0m\n\u001b[1;32m     72\u001b[0m \u001b[0;32mif\u001b[0m \u001b[0m__name__\u001b[0m \u001b[0;34m==\u001b[0m \u001b[0;34m\"__main__\"\u001b[0m \u001b[0;34m:\u001b[0m\u001b[0;34m\u001b[0m\u001b[0;34m\u001b[0m\u001b[0m\n\u001b[0;32m---> 73\u001b[0;31m   \u001b[0mmain\u001b[0m\u001b[0;34m(\u001b[0m\u001b[0;34m)\u001b[0m\u001b[0;34m\u001b[0m\u001b[0;34m\u001b[0m\u001b[0m\n\u001b[0m",
            "\u001b[0;32m<ipython-input-15-92cef46bdd64>\u001b[0m in \u001b[0;36mmain\u001b[0;34m()\u001b[0m\n\u001b[1;32m     13\u001b[0m   \u001b[0;32mwhile\u001b[0m \u001b[0;32mTrue\u001b[0m \u001b[0;34m:\u001b[0m\u001b[0;34m\u001b[0m\u001b[0;34m\u001b[0m\u001b[0m\n\u001b[1;32m     14\u001b[0m     \u001b[0mdisplayTowers\u001b[0m\u001b[0;34m(\u001b[0m\u001b[0mtowers\u001b[0m\u001b[0;34m)\u001b[0m\u001b[0;34m\u001b[0m\u001b[0;34m\u001b[0m\u001b[0m\n\u001b[0;32m---> 15\u001b[0;31m     \u001b[0mfromTower\u001b[0m\u001b[0;34m,\u001b[0m \u001b[0mtoTower\u001b[0m \u001b[0;34m=\u001b[0m \u001b[0maskForPlayerMove\u001b[0m\u001b[0;34m(\u001b[0m\u001b[0mtowers\u001b[0m\u001b[0;34m)\u001b[0m\u001b[0;34m\u001b[0m\u001b[0;34m\u001b[0m\u001b[0m\n\u001b[0m\u001b[1;32m     16\u001b[0m \u001b[0;34m\u001b[0m\u001b[0m\n\u001b[1;32m     17\u001b[0m     \u001b[0mdisk\u001b[0m \u001b[0;34m=\u001b[0m \u001b[0mtowers\u001b[0m\u001b[0;34m[\u001b[0m\u001b[0mfromTower\u001b[0m\u001b[0;34m]\u001b[0m\u001b[0;34m.\u001b[0m\u001b[0mpop\u001b[0m\u001b[0;34m(\u001b[0m\u001b[0;34m)\u001b[0m\u001b[0;34m\u001b[0m\u001b[0;34m\u001b[0m\u001b[0m\n",
            "\u001b[0;32m<ipython-input-15-92cef46bdd64>\u001b[0m in \u001b[0;36maskForPlayerMove\u001b[0;34m(towers)\u001b[0m\n\u001b[1;32m     26\u001b[0m   \u001b[0;32mwhile\u001b[0m \u001b[0;32mTrue\u001b[0m \u001b[0;34m:\u001b[0m\u001b[0;34m\u001b[0m\u001b[0;34m\u001b[0m\u001b[0m\n\u001b[1;32m     27\u001b[0m     \u001b[0mprint\u001b[0m\u001b[0;34m(\u001b[0m\u001b[0;34m\"Enter the letters of 'from' and 'to' towers, or QUIT.\"\u001b[0m\u001b[0;34m)\u001b[0m\u001b[0;34m\u001b[0m\u001b[0;34m\u001b[0m\u001b[0m\n\u001b[0;32m---> 28\u001b[0;31m     \u001b[0mresponse\u001b[0m \u001b[0;34m=\u001b[0m \u001b[0minput\u001b[0m\u001b[0;34m(\u001b[0m\u001b[0;34m\"> \"\u001b[0m\u001b[0;34m)\u001b[0m\u001b[0;34m.\u001b[0m\u001b[0mupper\u001b[0m\u001b[0;34m(\u001b[0m\u001b[0;34m)\u001b[0m\u001b[0;34m.\u001b[0m\u001b[0mstrip\u001b[0m\u001b[0;34m(\u001b[0m\u001b[0;34m)\u001b[0m\u001b[0;34m\u001b[0m\u001b[0;34m\u001b[0m\u001b[0m\n\u001b[0m\u001b[1;32m     29\u001b[0m \u001b[0;34m\u001b[0m\u001b[0m\n\u001b[1;32m     30\u001b[0m     \u001b[0;32mif\u001b[0m \u001b[0mresponse\u001b[0m \u001b[0;34m==\u001b[0m \u001b[0;34m'QUIT'\u001b[0m \u001b[0;34m:\u001b[0m\u001b[0;34m\u001b[0m\u001b[0;34m\u001b[0m\u001b[0m\n",
            "\u001b[0;32m/usr/local/lib/python3.7/dist-packages/ipykernel/kernelbase.py\u001b[0m in \u001b[0;36mraw_input\u001b[0;34m(self, prompt)\u001b[0m\n\u001b[1;32m    861\u001b[0m             \u001b[0mself\u001b[0m\u001b[0;34m.\u001b[0m\u001b[0m_parent_ident\u001b[0m\u001b[0;34m,\u001b[0m\u001b[0;34m\u001b[0m\u001b[0;34m\u001b[0m\u001b[0m\n\u001b[1;32m    862\u001b[0m             \u001b[0mself\u001b[0m\u001b[0;34m.\u001b[0m\u001b[0m_parent_header\u001b[0m\u001b[0;34m,\u001b[0m\u001b[0;34m\u001b[0m\u001b[0;34m\u001b[0m\u001b[0m\n\u001b[0;32m--> 863\u001b[0;31m             \u001b[0mpassword\u001b[0m\u001b[0;34m=\u001b[0m\u001b[0;32mFalse\u001b[0m\u001b[0;34m,\u001b[0m\u001b[0;34m\u001b[0m\u001b[0;34m\u001b[0m\u001b[0m\n\u001b[0m\u001b[1;32m    864\u001b[0m         )\n\u001b[1;32m    865\u001b[0m \u001b[0;34m\u001b[0m\u001b[0m\n",
            "\u001b[0;32m/usr/local/lib/python3.7/dist-packages/ipykernel/kernelbase.py\u001b[0m in \u001b[0;36m_input_request\u001b[0;34m(self, prompt, ident, parent, password)\u001b[0m\n\u001b[1;32m    902\u001b[0m             \u001b[0;32mexcept\u001b[0m \u001b[0mKeyboardInterrupt\u001b[0m\u001b[0;34m:\u001b[0m\u001b[0;34m\u001b[0m\u001b[0;34m\u001b[0m\u001b[0m\n\u001b[1;32m    903\u001b[0m                 \u001b[0;31m# re-raise KeyboardInterrupt, to truncate traceback\u001b[0m\u001b[0;34m\u001b[0m\u001b[0;34m\u001b[0m\u001b[0;34m\u001b[0m\u001b[0m\n\u001b[0;32m--> 904\u001b[0;31m                 \u001b[0;32mraise\u001b[0m \u001b[0mKeyboardInterrupt\u001b[0m\u001b[0;34m(\u001b[0m\u001b[0;34m\"Interrupted by user\"\u001b[0m\u001b[0;34m)\u001b[0m \u001b[0;32mfrom\u001b[0m \u001b[0;32mNone\u001b[0m\u001b[0;34m\u001b[0m\u001b[0;34m\u001b[0m\u001b[0m\n\u001b[0m\u001b[1;32m    905\u001b[0m             \u001b[0;32mexcept\u001b[0m \u001b[0mException\u001b[0m \u001b[0;32mas\u001b[0m \u001b[0me\u001b[0m\u001b[0;34m:\u001b[0m\u001b[0;34m\u001b[0m\u001b[0;34m\u001b[0m\u001b[0m\n\u001b[1;32m    906\u001b[0m                 \u001b[0mself\u001b[0m\u001b[0;34m.\u001b[0m\u001b[0mlog\u001b[0m\u001b[0;34m.\u001b[0m\u001b[0mwarning\u001b[0m\u001b[0;34m(\u001b[0m\u001b[0;34m\"Invalid Message:\"\u001b[0m\u001b[0;34m,\u001b[0m \u001b[0mexc_info\u001b[0m\u001b[0;34m=\u001b[0m\u001b[0;32mTrue\u001b[0m\u001b[0;34m)\u001b[0m\u001b[0;34m\u001b[0m\u001b[0;34m\u001b[0m\u001b[0m\n",
            "\u001b[0;31mKeyboardInterrupt\u001b[0m: Interrupted by user"
          ]
        }
      ]
    }
  ]
}