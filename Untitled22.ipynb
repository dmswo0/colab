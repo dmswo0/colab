{
  "nbformat": 4,
  "nbformat_minor": 0,
  "metadata": {
    "colab": {
      "provenance": [],
      "authorship_tag": "ABX9TyM8J5930if2Yi3N32pS3hOC",
      "include_colab_link": true
    },
    "kernelspec": {
      "name": "python3",
      "display_name": "Python 3"
    },
    "language_info": {
      "name": "python"
    }
  },
  "cells": [
    {
      "cell_type": "markdown",
      "metadata": {
        "id": "view-in-github",
        "colab_type": "text"
      },
      "source": [
        "<a href=\"https://colab.research.google.com/github/dmswo0/colab/blob/main/Untitled22.ipynb\" target=\"_parent\"><img src=\"https://colab.research.google.com/assets/colab-badge.svg\" alt=\"Open In Colab\"/></a>"
      ]
    },
    {
      "cell_type": "code",
      "execution_count": 1,
      "metadata": {
        "colab": {
          "base_uri": "https://localhost:8080/"
        },
        "id": "MmiEo65IdTRO",
        "outputId": "838b68bc-0571-4eb5-984a-31fc45f4b68c"
      },
      "outputs": [
        {
          "output_type": "stream",
          "name": "stdout",
          "text": [
            "2 x 1 = 2\n",
            "2 x 2 = 4\n",
            "2 x 3 = 6\n",
            "2 x 4 = 8\n",
            "2 x 5 = 10\n",
            "2 x 6 = 12\n",
            "2 x 7 = 14\n",
            "2 x 8 = 16\n",
            "2 x 9 = 18\n",
            "3 x 1 = 3\n",
            "3 x 2 = 6\n",
            "3 x 3 = 9\n",
            "3 x 4 = 12\n",
            "3 x 5 = 15\n",
            "3 x 6 = 18\n",
            "3 x 7 = 21\n",
            "3 x 8 = 24\n",
            "3 x 9 = 27\n",
            "4 x 1 = 4\n",
            "4 x 2 = 8\n",
            "4 x 3 = 12\n",
            "4 x 4 = 16\n",
            "4 x 5 = 20\n",
            "4 x 6 = 24\n",
            "4 x 7 = 28\n",
            "4 x 8 = 32\n",
            "4 x 9 = 36\n",
            "5 x 1 = 5\n",
            "5 x 2 = 10\n",
            "5 x 3 = 15\n",
            "5 x 4 = 20\n",
            "5 x 5 = 25\n",
            "5 x 6 = 30\n",
            "5 x 7 = 35\n",
            "5 x 8 = 40\n",
            "5 x 9 = 45\n",
            "6 x 1 = 6\n",
            "6 x 2 = 12\n",
            "6 x 3 = 18\n",
            "6 x 4 = 24\n",
            "6 x 5 = 30\n",
            "6 x 6 = 36\n",
            "6 x 7 = 42\n",
            "6 x 8 = 48\n",
            "6 x 9 = 54\n",
            "7 x 1 = 7\n",
            "7 x 2 = 14\n",
            "7 x 3 = 21\n",
            "7 x 4 = 28\n",
            "7 x 5 = 35\n",
            "7 x 6 = 42\n",
            "7 x 7 = 49\n",
            "7 x 8 = 56\n",
            "7 x 9 = 63\n",
            "8 x 1 = 8\n",
            "8 x 2 = 16\n",
            "8 x 3 = 24\n",
            "8 x 4 = 32\n",
            "8 x 5 = 40\n",
            "8 x 6 = 48\n",
            "8 x 7 = 56\n",
            "8 x 8 = 64\n",
            "8 x 9 = 72\n",
            "9 x 1 = 9\n",
            "9 x 2 = 18\n",
            "9 x 3 = 27\n",
            "9 x 4 = 36\n",
            "9 x 5 = 45\n",
            "9 x 6 = 54\n",
            "9 x 7 = 63\n",
            "9 x 8 = 72\n",
            "9 x 9 = 81\n"
          ]
        }
      ],
      "source": [
        "for dan in range(2, 10): \n",
        "    for i in range(1, 10):  \n",
        "        print(f'{dan} x {i} = {dan * i}')"
      ]
    },
    {
      "cell_type": "code",
      "source": [
        "i=0\n",
        "\n",
        "sum=0\n",
        "\n",
        "\n",
        "for i in range(1, 11, 1):\n",
        "\n",
        "    sum=sum+i\n",
        "\n",
        "\n",
        "print(\"1에서 100까지 자연수의 합은: %d\" % sum)"
      ],
      "metadata": {
        "colab": {
          "base_uri": "https://localhost:8080/"
        },
        "id": "03EU67w4hwGy",
        "outputId": "a2174adf-237b-4ed2-bf9e-369c4167f2e9"
      },
      "execution_count": 11,
      "outputs": [
        {
          "output_type": "stream",
          "name": "stdout",
          "text": [
            "1에서 100까지 자연수의 합은: 55\n"
          ]
        }
      ]
    },
    {
      "cell_type": "code",
      "source": [
        "import random\n",
        "number = random.randint(1, 1000)\n",
        "tries = 0\n",
        "n = 10 # 시도 횟수(n번까지 허용)\n",
        "\n",
        "print(\"1~1000 사이의 숫자를 맞추세요.\")\n",
        "\n",
        "while tries <= n:\n",
        "    guess = int(input(\"숫자를 입력하세요: \"))\n",
        "    tries += 1\n",
        "    if number == guess:\n",
        "        print(\"정답입니다. 시도 횟수는 %d회입니다.\" % tries)\n",
        "        break\n",
        "    elif number < guess:\n",
        "        print(\"=========================\\n더 작은 수를 입력하세요\")\n",
        "    elif number > guess:\n",
        "        print(\"=========================\\n더 큰 수를 입력하세요.\")\n",
        "\n",
        "if tries > n:\n",
        "    print(\"주어진 기회를 모두 사용하셨습니다. 정답은 %d입니다.\" % number)"
      ],
      "metadata": {
        "colab": {
          "base_uri": "https://localhost:8080/"
        },
        "id": "VTLbrm_rmczS",
        "outputId": "569a0f09-e535-4cb5-b31e-64e8af32c6df"
      },
      "execution_count": 13,
      "outputs": [
        {
          "output_type": "stream",
          "name": "stdout",
          "text": [
            "1~1000 사이의 숫자를 맞추세요.\n",
            "숫자를 입력하세요: 3\n",
            "=========================\n",
            "더 큰 수를 입력하세요.\n",
            "숫자를 입력하세요: 2\n",
            "=========================\n",
            "더 큰 수를 입력하세요.\n",
            "숫자를 입력하세요: 4\n",
            "=========================\n",
            "더 큰 수를 입력하세요.\n",
            "숫자를 입력하세요: 3\n",
            "=========================\n",
            "더 큰 수를 입력하세요.\n",
            "숫자를 입력하세요: 2\n",
            "=========================\n",
            "더 큰 수를 입력하세요.\n",
            "숫자를 입력하세요: 4\n",
            "=========================\n",
            "더 큰 수를 입력하세요.\n",
            "숫자를 입력하세요: 3\n",
            "=========================\n",
            "더 큰 수를 입력하세요.\n",
            "숫자를 입력하세요: 2\n",
            "=========================\n",
            "더 큰 수를 입력하세요.\n",
            "숫자를 입력하세요: 4\n",
            "=========================\n",
            "더 큰 수를 입력하세요.\n",
            "숫자를 입력하세요: 3\n",
            "=========================\n",
            "더 큰 수를 입력하세요.\n",
            "숫자를 입력하세요: 2\n",
            "=========================\n",
            "더 큰 수를 입력하세요.\n",
            "주어진 기회를 모두 사용하셨습니다. 정답은 762입니다.\n"
          ]
        }
      ]
    }
  ]
}