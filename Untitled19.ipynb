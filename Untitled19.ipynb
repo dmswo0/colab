{
  "nbformat": 4,
  "nbformat_minor": 0,
  "metadata": {
    "colab": {
      "provenance": [],
      "authorship_tag": "ABX9TyPuEwpAlpD0T35o3U0sJiCo",
      "include_colab_link": true
    },
    "kernelspec": {
      "name": "python3",
      "display_name": "Python 3"
    },
    "language_info": {
      "name": "python"
    }
  },
  "cells": [
    {
      "cell_type": "markdown",
      "metadata": {
        "id": "view-in-github",
        "colab_type": "text"
      },
      "source": [
        "<a href=\"https://colab.research.google.com/github/dmswo0/colab/blob/main/Untitled19.ipynb\" target=\"_parent\"><img src=\"https://colab.research.google.com/assets/colab-badge.svg\" alt=\"Open In Colab\"/></a>"
      ]
    },
    {
      "cell_type": "code",
      "execution_count": 1,
      "metadata": {
        "colab": {
          "base_uri": "https://localhost:8080/"
        },
        "id": "OKDcoXjlbScS",
        "outputId": "f70dd1aa-fd09-4f89-dc43-6b8b6b8b45b4"
      },
      "outputs": [
        {
          "output_type": "stream",
          "name": "stdout",
          "text": [
            "정수를 입력 : 1773\n",
            "1773 홀수입니다.\n"
          ]
        }
      ],
      "source": [
        "num = int(input(\"정수를 입력 : \"))\n",
        "if (num % 2) == 0 :\n",
        "  print(num, \"짝수입니다.\")\n",
        "else :\n",
        "  print(num, \"홀수입니다.\")"
      ]
    },
    {
      "cell_type": "code",
      "source": [
        "num = int(input(\"숫자를 입력 ==> \"))\n",
        "\n",
        "if num > 100 :\n",
        "  if num < 1000 :\n",
        "    print(\"100보다 크고 1000보다 작군요.\")\n",
        "  else :\n",
        "    print(\"와~ 1000보다 크군요.\")\n",
        "else :\n",
        "  print(\"음~ 100보다 작군요.\")"
      ],
      "metadata": {
        "colab": {
          "base_uri": "https://localhost:8080/"
        },
        "id": "H7lZ-Wc7diae",
        "outputId": "d01fb050-ddbd-4887-9656-4b43a3f98261"
      },
      "execution_count": 2,
      "outputs": [
        {
          "output_type": "stream",
          "name": "stdout",
          "text": [
            "숫자를 입력 ==> 150\n",
            "100보다 크고 1000보다 작군요.\n"
          ]
        }
      ]
    },
    {
      "cell_type": "code",
      "source": [
        "score = int(input(\"점수를 입력 ==> \"))\n",
        "\n",
        "if score >= 90 :\n",
        "    print(\"A\", end='')\n",
        "else :\n",
        "  if score >= 80 :\n",
        "      print(\"B\", end='')\n",
        "  else :\n",
        "      if score >= 70 :\n",
        "          print(\"C\", end='')\n",
        "      else :\n",
        "          if score >= 60 :\n",
        "              print(\"D\", end='')\n",
        "          else :\n",
        "              print(\"F\", end='')\n",
        "print(\"학점입니다.\")"
      ],
      "metadata": {
        "colab": {
          "base_uri": "https://localhost:8080/"
        },
        "id": "oyj7NTEYf3YH",
        "outputId": "69b8321d-767c-4ae8-fea1-43ce007a796b"
      },
      "execution_count": 3,
      "outputs": [
        {
          "output_type": "stream",
          "name": "stdout",
          "text": [
            "점수를 입력 ==> 77\n",
            "C학점입니다.\n"
          ]
        }
      ]
    },
    {
      "cell_type": "code",
      "source": [
        "import random\n",
        "com_plyaer , user , count = \"\", \"\", 1\n",
        "com_count ,usr_count , draw_count = 0, 0, 0\n",
        "\n",
        "def result() :\n",
        "  global com_count, usr_count, draw_count\n",
        "  if com_player == user :\n",
        "    print(count, \"번째 : \" + \"비겼다. ^^??\")\n",
        "    draw_count += 1\n",
        "  elif ((com_player == \"가위\") and (user == \"바위\")) or \\\n",
        "  ((com_player == \"바위\") and (user == \"보\")) or \\\n",
        "  ((com_player == \"보\") and (user == \"가위\")) :\n",
        "    print(count, \"번째 : \" + \"이겼다.\")\n",
        "    usr_count += 1\n",
        "  else :\n",
        "    print(count, \"번째 : \" + \"졌다. ㅜ.ㅜ\")\n",
        "    com_count += 1\n",
        "\n",
        "print(\" ** [가위/바위/보] 게임 **\")\n",
        "\n",
        "while count != 8 :\n",
        "  com_player = random.choice([\"가위\", \"바위\", \"보\"])\n",
        "  user = input(\"가위/바위/보 중 하나를 입력 : \")\n",
        "  result()\n",
        "  count = count + 1\n",
        "\n",
        "print(\"====== 최종 스코어 ======\")\n",
        "print(\"컴퓨터 : \", com_count)\n",
        "print(\"사용자 : \", usr_count)\n",
        "print(\"비김 : \", draw_count)"
      ],
      "metadata": {
        "colab": {
          "base_uri": "https://localhost:8080/"
        },
        "id": "tZ2XV0Hrg2AG",
        "outputId": "2a7bec79-b8ac-4f9b-a376-859da1fb61f5"
      },
      "execution_count": 4,
      "outputs": [
        {
          "output_type": "stream",
          "name": "stdout",
          "text": [
            " ** [가위/바위/보] 게임 **\n",
            "가위/바위/보 중 하나를 입력 : 가위\n",
            "1 번째 : 졌다. ㅜ.ㅜ\n",
            "가위/바위/보 중 하나를 입력 : 바위\n",
            "2 번째 : 이겼다.\n",
            "가위/바위/보 중 하나를 입력 : 보\n",
            "3 번째 : 비겼다. ^^??\n",
            "가위/바위/보 중 하나를 입력 : 가위\n",
            "4 번째 : 이겼다.\n",
            "가위/바위/보 중 하나를 입력 : 바위\n",
            "5 번째 : 비겼다. ^^??\n",
            "가위/바위/보 중 하나를 입력 : 보\n",
            "6 번째 : 졌다. ㅜ.ㅜ\n",
            "가위/바위/보 중 하나를 입력 : 가위\n",
            "7 번째 : 졌다. ㅜ.ㅜ\n",
            "====== 최종 스코어 ======\n",
            "컴퓨터 :  3\n",
            "사용자 :  2\n",
            "비김 :  2\n"
          ]
        }
      ]
    }
  ]
}