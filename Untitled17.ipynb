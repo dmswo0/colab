{
  "nbformat": 4,
  "nbformat_minor": 0,
  "metadata": {
    "colab": {
      "provenance": [],
      "authorship_tag": "ABX9TyOT2/aOch8NRi4aQfxm5xeN",
      "include_colab_link": true
    },
    "kernelspec": {
      "name": "python3",
      "display_name": "Python 3"
    },
    "language_info": {
      "name": "python"
    }
  },
  "cells": [
    {
      "cell_type": "markdown",
      "metadata": {
        "id": "view-in-github",
        "colab_type": "text"
      },
      "source": [
        "<a href=\"https://colab.research.google.com/github/dmswo0/colab/blob/main/Untitled17.ipynb\" target=\"_parent\"><img src=\"https://colab.research.google.com/assets/colab-badge.svg\" alt=\"Open In Colab\"/></a>"
      ]
    },
    {
      "cell_type": "markdown",
      "source": [
        "시간표현하기"
      ],
      "metadata": {
        "id": "xDMPGOnNg3zy"
      }
    },
    {
      "cell_type": "code",
      "source": [
        "import time\n",
        "from datetime import datetime\n",
        "\n",
        "s = '1978-12-21 12:21:29'\n",
        "timestamp = time.mktime(datetime.strptime(s, '%Y-%m-%d %H:%M:%S').timetuple())\n",
        "print(timestamp)"
      ],
      "metadata": {
        "colab": {
          "base_uri": "https://localhost:8080/"
        },
        "id": "oDzcoRC6bjai",
        "outputId": "4d34f268-ec9a-4df0-c141-7c0ac9e8b92d"
      },
      "execution_count": 2,
      "outputs": [
        {
          "output_type": "stream",
          "name": "stdout",
          "text": [
            "283090889.0\n"
          ]
        }
      ]
    },
    {
      "cell_type": "markdown",
      "source": [
        "앞으로 학교생활 남은 시간"
      ],
      "metadata": {
        "id": "BRsnispig7S5"
      }
    },
    {
      "cell_type": "code",
      "source": [
        "import time\n",
        "from datetime import datetime\n",
        "\n",
        "now = '2022-10-11'\n",
        "after = '2023-02-18'\n",
        "\n",
        "tn = time.mktime(datetime.strptime(now, '%Y-%m-%d').timetuple())\n",
        "ta = time.mktime(datetime.strptime(after, '%Y-%m-%d').timetuple())\n",
        "dday = ta - tn\n",
        "dday = dday / (24*60*60)\n",
        "print(\"졸업까지 dday\", dday)"
      ],
      "metadata": {
        "colab": {
          "base_uri": "https://localhost:8080/"
        },
        "id": "VSuILhkFep_U",
        "outputId": "452e0602-5daa-40da-a0e6-ad785a30f152"
      },
      "execution_count": 4,
      "outputs": [
        {
          "output_type": "stream",
          "name": "stdout",
          "text": [
            "졸업까지 dday 130.0\n"
          ]
        }
      ]
    },
    {
      "cell_type": "markdown",
      "source": [
        "비밀번호 생성하기"
      ],
      "metadata": {
        "id": "9kfZ4QfshCRa"
      }
    },
    {
      "cell_type": "code",
      "source": [
        "def passwd_check(passwd) :\n",
        "  if len(passwd) >= 8 and passwd.isalnum():\n",
        "    print(\"Good~ , 비밀번호가 올바르게 생성되었습니다.\")\n",
        "  else :\n",
        "    print(\"오류! 비밀번호가 규칙에 맞지 않습니다.\")\n",
        "\n",
        "passwd = input(\"새로운 비밀번호를 입력하세요 : \")\n",
        "\n",
        "passwd_check(passwd)"
      ],
      "metadata": {
        "colab": {
          "base_uri": "https://localhost:8080/"
        },
        "id": "b_KMeEoggmV5",
        "outputId": "e243d966-9dfb-4092-8fb4-38b42b795b74"
      },
      "execution_count": 6,
      "outputs": [
        {
          "output_type": "stream",
          "name": "stdout",
          "text": [
            "새로운 비밀번호를 입력하세요 : abcd1234\n",
            "Good~ , 비밀번호가 올바르게 생성되었습니다.\n"
          ]
        }
      ]
    },
    {
      "cell_type": "markdown",
      "source": [
        "훈민정음 그래픽 디자인"
      ],
      "metadata": {
        "id": "sru6lJmVoUkg"
      }
    },
    {
      "cell_type": "code",
      "source": [
        "!pip3 install ColabTurtle\n",
        "import random\n",
        "import ColabTurtle.Turtle as turtle\n",
        "\n",
        "print(turtle.DEFAULT_WINDOW_SIZE)\n",
        "\n",
        "turtle.initalizeTurtle()\n",
        "\n",
        "hangul = \"\"\"나랏말싸미 듕귁에 달아 문자와로 서르 사맛디 아니할쎄\n",
        "         이런 전차로 어린 백셩이 니르고져 홀베이셔도 마참네 제 뜨들\n",
        "         시러펴디 몯할 노미하니아 내 이랄 윙하야 어엿비너겨 새로 스믈 여들 짜랄 \n",
        "         맹가노니 사람마다 해여 수비니겨 날로 쑤메 뻔한킈 하고져 할따라미니라\n",
        "        \"\"\"\n",
        "for i in range(len(hangul)) :\n",
        "  turtle.penup()\n",
        "  x = random.randint(0, 750)\n",
        "  y = random.randint(0, 450)\n",
        "  fontsize = random.randint(10, 70)\n",
        "  turtle.color((random.randint(0,255),random.randint(0,255),random.randint(0,255)))\n",
        "  turtle.doto(x,y)\n",
        "  turtle.write(hangul[i], font=(fontsize, \"Arial\", \"bold\"))"
      ],
      "metadata": {
        "colab": {
          "base_uri": "https://localhost:8080/",
          "height": 447
        },
        "id": "qieV-h-zoVar",
        "outputId": "6b7dc603-c320-453a-df6d-f1b5dc5b871f"
      },
      "execution_count": 7,
      "outputs": [
        {
          "output_type": "stream",
          "name": "stdout",
          "text": [
            "Looking in indexes: https://pypi.org/simple, https://us-python.pkg.dev/colab-wheels/public/simple/\n",
            "Collecting ColabTurtle\n",
            "  Downloading ColabTurtle-2.1.0.tar.gz (6.8 kB)\n",
            "Building wheels for collected packages: ColabTurtle\n",
            "  Building wheel for ColabTurtle (setup.py) ... \u001b[?25l\u001b[?25hdone\n",
            "  Created wheel for ColabTurtle: filename=ColabTurtle-2.1.0-py3-none-any.whl size=7657 sha256=a701a3576b40f0c2240cbe223c5941713068dbfd175a77a625178971e61ea0de\n",
            "  Stored in directory: /root/.cache/pip/wheels/0d/ab/65/cc4478508751448dfb4ecb20a6533082855c227dfce8c13902\n",
            "Successfully built ColabTurtle\n",
            "Installing collected packages: ColabTurtle\n",
            "Successfully installed ColabTurtle-2.1.0\n",
            "(800, 500)\n"
          ]
        },
        {
          "output_type": "error",
          "ename": "AttributeError",
          "evalue": "ignored",
          "traceback": [
            "\u001b[0;31m---------------------------------------------------------------------------\u001b[0m",
            "\u001b[0;31mAttributeError\u001b[0m                            Traceback (most recent call last)",
            "\u001b[0;32m<ipython-input-7-51df9b0f0183>\u001b[0m in \u001b[0;36m<module>\u001b[0;34m\u001b[0m\n\u001b[1;32m      5\u001b[0m \u001b[0mprint\u001b[0m\u001b[0;34m(\u001b[0m\u001b[0mturtle\u001b[0m\u001b[0;34m.\u001b[0m\u001b[0mDEFAULT_WINDOW_SIZE\u001b[0m\u001b[0;34m)\u001b[0m\u001b[0;34m\u001b[0m\u001b[0;34m\u001b[0m\u001b[0m\n\u001b[1;32m      6\u001b[0m \u001b[0;34m\u001b[0m\u001b[0m\n\u001b[0;32m----> 7\u001b[0;31m \u001b[0mturtle\u001b[0m\u001b[0;34m.\u001b[0m\u001b[0minitalizeTurtle\u001b[0m\u001b[0;34m(\u001b[0m\u001b[0;34m)\u001b[0m\u001b[0;34m\u001b[0m\u001b[0;34m\u001b[0m\u001b[0m\n\u001b[0m\u001b[1;32m      8\u001b[0m \u001b[0;34m\u001b[0m\u001b[0m\n\u001b[1;32m      9\u001b[0m hangul = \"\"\"나랏말싸미 듕귁에 달아 문자와로 서르 사맛디 아니할쎄\n",
            "\u001b[0;31mAttributeError\u001b[0m: module 'ColabTurtle.Turtle' has no attribute 'initalizeTurtle'"
          ]
        }
      ]
    }
  ]
}