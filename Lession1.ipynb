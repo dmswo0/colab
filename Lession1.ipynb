{
  "nbformat": 4,
  "nbformat_minor": 0,
  "metadata": {
    "colab": {
      "name": "Lession1.ipynb",
      "provenance": [],
      "authorship_tag": "ABX9TyPLldbHpRYjgvEZsr2GmqaA",
      "include_colab_link": true
    },
    "kernelspec": {
      "name": "python3",
      "display_name": "Python 3"
    },
    "language_info": {
      "name": "python"
    }
  },
  "cells": [
    {
      "cell_type": "markdown",
      "metadata": {
        "id": "view-in-github",
        "colab_type": "text"
      },
      "source": [
        "<a href=\"https://colab.research.google.com/github/dmswo0/colab/blob/main/Lession1.ipynb\" target=\"_parent\"><img src=\"https://colab.research.google.com/assets/colab-badge.svg\" alt=\"Open In Colab\"/></a>"
      ]
    },
    {
      "cell_type": "markdown",
      "source": [
        "파이썬 프로그래밍 1장"
      ],
      "metadata": {
        "id": "3uxwBN9ioqWM"
      }
    },
    {
      "cell_type": "code",
      "execution_count": null,
      "metadata": {
        "id": "RIGESzgbl6F_"
      },
      "outputs": [],
      "source": [
        "print(\"안산공고 컴퓨터과 3학년 2반 15번 이은재\")"
      ]
    },
    {
      "cell_type": "code",
      "source": [
        "print(\"내일은 즐거운 졸업여행\")\n",
        "print(\"준비물 잘 챙기자.\")\n",
        "print(\"다치지말고 재미있게 놀다 오자. :)\")"
      ],
      "metadata": {
        "colab": {
          "base_uri": "https://localhost:8080/"
        },
        "id": "wEWnFZqdpMKs",
        "outputId": "3718db9f-8ca4-40c6-f6c8-829630ba5a5c"
      },
      "execution_count": 1,
      "outputs": [
        {
          "output_type": "stream",
          "name": "stdout",
          "text": [
            "내일은 즐거운 졸업여행\n",
            "준비물 잘 챙기자.\n",
            "다치지말고 재미있게 놀다 오자. :)\n"
          ]
        }
      ]
    },
    {
      "cell_type": "markdown",
      "source": [
        "변수 사용 예)"
      ],
      "metadata": {
        "id": "uB6Uii0uqSfr"
      }
    },
    {
      "cell_type": "code",
      "source": [
        "a = 100\n",
        "b = 200\n",
        "result = a + b\n",
        "print(a, \"+\", b, \"=\", result)"
      ],
      "metadata": {
        "colab": {
          "base_uri": "https://localhost:8080/"
        },
        "id": "_b-Yg6XkqW67",
        "outputId": "03f555b9-e541-40b5-a983-4fcca9efaa49"
      },
      "execution_count": 2,
      "outputs": [
        {
          "output_type": "stream",
          "name": "stdout",
          "text": [
            "100 + 200 = 300\n"
          ]
        }
      ]
    },
    {
      "cell_type": "code",
      "source": [
        "num1 = 100\n",
        "num2 = 200\n",
        "result = num1 * num2\n",
        "print(num1, \"*\", num2, \"=\", result)"
      ],
      "metadata": {
        "colab": {
          "base_uri": "https://localhost:8080/"
        },
        "id": "2BK6jbYoq6KD",
        "outputId": "b192ac0a-9053-473f-d0b5-a5081cfb52cb"
      },
      "execution_count": 3,
      "outputs": [
        {
          "output_type": "stream",
          "name": "stdout",
          "text": [
            "100 * 200 = 20000\n"
          ]
        }
      ]
    },
    {
      "cell_type": "code",
      "source": [
        "num1 = 100\n",
        "num2 = 200\n",
        "result = num1 / num2\n",
        "print(num1, \"/\", num2, \"=\", result)"
      ],
      "metadata": {
        "colab": {
          "base_uri": "https://localhost:8080/"
        },
        "id": "X94bloPRrtiU",
        "outputId": "36474342-b7d4-41d9-f3c1-73d36fbbaaef"
      },
      "execution_count": 4,
      "outputs": [
        {
          "output_type": "stream",
          "name": "stdout",
          "text": [
            "100 / 200 = 0.5\n"
          ]
        }
      ]
    },
    {
      "cell_type": "code",
      "source": [
        "num1 = 100\n",
        "num2 = 200\n",
        "result = num1 // num2\n",
        "print(num1, \"//\", num2, \"=\", result)"
      ],
      "metadata": {
        "colab": {
          "base_uri": "https://localhost:8080/"
        },
        "id": "JpRavBoVsCD7",
        "outputId": "606fc19e-b36e-4804-f32b-8253e68b6228"
      },
      "execution_count": 5,
      "outputs": [
        {
          "output_type": "stream",
          "name": "stdout",
          "text": [
            "100 // 200 = 0\n"
          ]
        }
      ]
    },
    {
      "cell_type": "code",
      "source": [
        "num1 = 100\n",
        "num2 = 200\n",
        "result = num1 - num2\n",
        "print(num1, \"-\", num2, \"=\", result)"
      ],
      "metadata": {
        "colab": {
          "base_uri": "https://localhost:8080/"
        },
        "id": "NmfXKFursJiK",
        "outputId": "e4c556e1-8fdd-4c2d-9b4e-addba5f32394"
      },
      "execution_count": 6,
      "outputs": [
        {
          "output_type": "stream",
          "name": "stdout",
          "text": [
            "100 - 200 = -100\n"
          ]
        }
      ]
    },
    {
      "cell_type": "code",
      "source": [
        "num1 = 100\n",
        "num2 = 200\n",
        "result = num1 % num2\n",
        "print(num1, \"%\", num2, \"=\", result)"
      ],
      "metadata": {
        "colab": {
          "base_uri": "https://localhost:8080/"
        },
        "id": "CQZHCa4cshOz",
        "outputId": "316c96c5-426b-4596-bd1f-c6b7adc86485"
      },
      "execution_count": 7,
      "outputs": [
        {
          "output_type": "stream",
          "name": "stdout",
          "text": [
            "100 % 200 = 100\n"
          ]
        }
      ]
    },
    {
      "cell_type": "code",
      "source": [
        "num1 = 100\n",
        "num2 = 200\n",
        "result = num1 ** num2\n",
        "print(num1, \"**\", num2, \"=\", result)"
      ],
      "metadata": {
        "colab": {
          "base_uri": "https://localhost:8080/"
        },
        "id": "yUj2ywbxswcS",
        "outputId": "46db5e72-4f42-4549-8e4a-41680ed62be3"
      },
      "execution_count": 8,
      "outputs": [
        {
          "output_type": "stream",
          "name": "stdout",
          "text": [
            "100 ** 200 = 10000000000000000000000000000000000000000000000000000000000000000000000000000000000000000000000000000000000000000000000000000000000000000000000000000000000000000000000000000000000000000000000000000000000000000000000000000000000000000000000000000000000000000000000000000000000000000000000000000000000000000000000000000000000000000000000000000000000000000000000000000000000000000000000000000000000000000\n"
          ]
        }
      ]
    }
  ]
}