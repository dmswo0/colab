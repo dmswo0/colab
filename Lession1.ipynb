{
  "nbformat": 4,
  "nbformat_minor": 0,
  "metadata": {
    "colab": {
      "name": "Lession1.ipynb",
      "provenance": [],
      "authorship_tag": "ABX9TyOfk5HO/F8t++ZSg0TqPSsH",
      "include_colab_link": true
    },
    "kernelspec": {
      "name": "python3",
      "display_name": "Python 3"
    },
    "language_info": {
      "name": "python"
    }
  },
  "cells": [
    {
      "cell_type": "markdown",
      "metadata": {
        "id": "view-in-github",
        "colab_type": "text"
      },
      "source": [
        "<a href=\"https://colab.research.google.com/github/dmswo0/colab/blob/main/Lession1.ipynb\" target=\"_parent\"><img src=\"https://colab.research.google.com/assets/colab-badge.svg\" alt=\"Open In Colab\"/></a>"
      ]
    },
    {
      "cell_type": "markdown",
      "source": [
        "파이썬 프로그래밍 1장"
      ],
      "metadata": {
        "id": "3uxwBN9ioqWM"
      }
    },
    {
      "cell_type": "code",
      "execution_count": null,
      "metadata": {
        "id": "RIGESzgbl6F_"
      },
      "outputs": [],
      "source": [
        "print(\"안산공고 컴퓨터과 3학년 2반 15번 이은재\")"
      ]
    }
  ]
}