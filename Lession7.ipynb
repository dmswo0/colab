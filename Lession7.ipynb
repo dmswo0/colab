{
  "nbformat": 4,
  "nbformat_minor": 0,
  "metadata": {
    "colab": {
      "provenance": [],
      "authorship_tag": "ABX9TyMyFubghfY/pitRfCV9fAg8",
      "include_colab_link": true
    },
    "kernelspec": {
      "name": "python3",
      "display_name": "Python 3"
    },
    "language_info": {
      "name": "python"
    }
  },
  "cells": [
    {
      "cell_type": "markdown",
      "metadata": {
        "id": "view-in-github",
        "colab_type": "text"
      },
      "source": [
        "<a href=\"https://colab.research.google.com/github/dmswo0/colab/blob/main/Lession7.ipynb\" target=\"_parent\"><img src=\"https://colab.research.google.com/assets/colab-badge.svg\" alt=\"Open In Colab\"/></a>"
      ]
    },
    {
      "cell_type": "markdown",
      "source": [
        "for문을 활용한 리스트"
      ],
      "metadata": {
        "id": "7VFggLIRIWzS"
      }
    },
    {
      "cell_type": "code",
      "execution_count": 1,
      "metadata": {
        "colab": {
          "base_uri": "https://localhost:8080/"
        },
        "id": "jW47ytTXIPjY",
        "outputId": "c3950c1c-b2b8-484a-b4df-b69d6ced916b"
      },
      "outputs": [
        {
          "output_type": "stream",
          "name": "stdout",
          "text": [
            "숫자 : 10\n",
            "숫자 : 20\n",
            "숫자 : 30\n",
            "숫자 : 40\n",
            "합계 ==>  100\n"
          ]
        }
      ],
      "source": [
        "numList = []\n",
        "for i in range(0, 4) :\n",
        "  numList.append(0)\n",
        "hap = 0\n",
        "\n",
        "for i in range(0, 4) :\n",
        "  numList[i] = int(input(\"숫자 : \"))\n",
        "\n",
        "hap = numList[0] + numList[1] + numList[2] + numList[3]\n",
        "\n",
        "print(\"합계 ==> \", hap)"
      ]
    },
    {
      "cell_type": "markdown",
      "source": [
        "형성평가 : 소스코드"
      ],
      "metadata": {
        "id": "XU-FrM4KeXdj"
      }
    },
    {
      "cell_type": "code",
      "source": [
        "import random\n",
        "wiseSay = [\"삶이 있는 한 희망은 있다. \",\n",
        "           \"언제나 현재에 집중할 수 있다면 행복할 것이다. \",\n",
        "           \"신은 용기있는 자를 결코 버리지 않는다. \",\n",
        "           \"피할 수 없으면 즐겨라\",\n",
        "           \"행복한 삶을 살기위해 필요한 것은 거의 없다.\",\n",
        "           \"내일은 내일의 태양이 뜬다.\",\n",
        "           \"행복은 습관이다. 그것을 몸에 지니라\",\n",
        "           \"1퍼센트의 가능성, 그것이 나의 길이다.\"]\n",
        "today = random.randint(0, len(wiseSay)-1)\n",
        "print(\"오늘의 명언 ==>\", wiseSay[today])"
      ],
      "metadata": {
        "colab": {
          "base_uri": "https://localhost:8080/"
        },
        "id": "K5bbuxgueasb",
        "outputId": "3876e294-e568-45c2-9d01-09d7e693fba5"
      },
      "execution_count": 2,
      "outputs": [
        {
          "output_type": "stream",
          "name": "stdout",
          "text": [
            "오늘의 명언 ==> 삶이 있는 한 희망은 있다. \n"
          ]
        }
      ]
    },
    {
      "cell_type": "code",
      "source": [
        "boardList = [ [1,2,3],\n",
        "              [4,5,6],\n",
        "              [7,8,9]]\n",
        "def display_board() :\n",
        "  print(\" \", boardList[0][0],\"|\", boardList[0][1], \"|\", boardList[0][2])\n",
        "  print(\" ---+---+---\")\n",
        "  print(\" \", boardList[1][0], \"|\", boardList[1][1], \"|\", boardList[1][2])\n",
        "  print(\" ---+---+---\")\n",
        "  print(\" \", boardList[2][0], \"|\", boardList[2][1], \"|\", boardList[2][2])\n",
        "\n",
        "display_board()"
      ],
      "metadata": {
        "colab": {
          "base_uri": "https://localhost:8080/"
        },
        "id": "QQ8rtbAxpth-",
        "outputId": "de395e62-d2e9-4a03-8492-c7586886f517"
      },
      "execution_count": 7,
      "outputs": [
        {
          "output_type": "stream",
          "name": "stdout",
          "text": [
            "  1 | 2 | 3\n",
            " ---+---+---\n",
            "  4 | 5 | 6\n",
            " ---+---+---\n",
            "  7 | 8 | 9\n"
          ]
        }
      ]
    },
    {
      "cell_type": "code",
      "source": [
        "from google.colab import output\n",
        "import random\n",
        "usred = [1,2,3,4,5,6,7,8,9]\n",
        "boardList = [ [1,2,3],\n",
        "              [4,5,6],\n",
        "              [7,8,9]]\n",
        "def display_board() :\n",
        "  print(\" \", boardList[0][0],\"|\", boardList[0][1], \"|\", boardList[0][2])\n",
        "  print(\" ---+---+---\")\n",
        "  print(\" \", boardList[1][0], \"|\", boardList[1][1], \"|\", boardList[1][2])\n",
        "  print(\" ---+---+---\")\n",
        "  print(\" \", boardList[2][0], \"|\", boardList[2][1], \"|\", boardList[2][2])\n",
        "\n",
        "def user_select() :\n",
        "  user = int(input(\"위치를 선택 : \"))\n",
        "  usred.remove(user)\n",
        "  for x in range(3) :\n",
        "    for y in range(3) :\n",
        "      if user == boardList[x][y] : boardList[x][y] = \"o\"\n",
        "\n",
        "def com_select() :\n",
        "  com = random.choice(usred)\n",
        "  usred.remove(com)\n",
        "  for x in range(3) :\n",
        "    for y in range(3) :\n",
        "      if com == boardList[x][y] : boardList[x][y] = \"x\"\n",
        "\n",
        "def test(player) :\n",
        "  if boardList[0][0] == boardList[0][1] == boardList[0][2] == player or \\\n",
        "  boardList[1][0] == boardList[1][1] == boardList[1][2] == player or \\\n",
        "  boardList[2][0] == boardList[2][1] == boardList[2][2] == player or \\\n",
        "  boardList[0][0] == boardList[1][1] == boardList[2][2] == player or \\\n",
        "  boardList[0][0] == boardList[1][0] == boardList[2][0] == player or \\\n",
        "  boardList[0][1] == boardList[1][1] == boardList[2][1] == player or \\\n",
        "  boardList[0][2] == boardList[1][2] == boardList[2][2] == player or \\\n",
        "  boardList[0][2] == boardList[1][1] == boardList[2][1] == player :\n",
        "  return player\n",
        "\n",
        "while True :\n",
        "  display_board()\n",
        "  user_select()\n",
        "  if test(\"o\") == \"o\" :\n",
        "    display_board()\n",
        "    print(\"유저 승\")\n",
        "    break\n",
        "  elif len(usred) ==0:\n",
        "    print(\"비겼다.\")\n",
        "    break\n",
        "  output.clear()\n",
        "  com_select()\n",
        "  output.clear()\n",
        "  if test(\"x\") == \"x\" :\n",
        "    display_board()\n",
        "    print(\"컴퓨터 승\")\n",
        "    break\n",
        "    elif len(usred) ==0:\n",
        "      print(\"비겼다.\")\n",
        "      break\n"
      ],
      "metadata": {
        "colab": {
          "base_uri": "https://localhost:8080/",
          "height": 136
        },
        "id": "WffVQOoW4Xq_",
        "outputId": "2d54eec0-25b3-4a22-af33-21b7b90d91ba"
      },
      "execution_count": 12,
      "outputs": [
        {
          "output_type": "error",
          "ename": "IndentationError",
          "evalue": "ignored",
          "traceback": [
            "\u001b[0;36m  File \u001b[0;32m\"<ipython-input-12-d3ff4799dce4>\"\u001b[0;36m, line \u001b[0;32m37\u001b[0m\n\u001b[0;31m    return player\u001b[0m\n\u001b[0m         ^\u001b[0m\n\u001b[0;31mIndentationError\u001b[0m\u001b[0;31m:\u001b[0m expected an indented block\n"
          ]
        }
      ]
    }
  ]
}