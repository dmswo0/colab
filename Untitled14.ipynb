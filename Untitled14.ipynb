{
  "nbformat": 4,
  "nbformat_minor": 0,
  "metadata": {
    "colab": {
      "provenance": [],
      "authorship_tag": "ABX9TyNxxYfEmXZ+BWtrINe609X4",
      "include_colab_link": true
    },
    "kernelspec": {
      "name": "python3",
      "display_name": "Python 3"
    },
    "language_info": {
      "name": "python"
    }
  },
  "cells": [
    {
      "cell_type": "markdown",
      "metadata": {
        "id": "view-in-github",
        "colab_type": "text"
      },
      "source": [
        "<a href=\"https://colab.research.google.com/github/dmswo0/colab/blob/main/Untitled14.ipynb\" target=\"_parent\"><img src=\"https://colab.research.google.com/assets/colab-badge.svg\" alt=\"Open In Colab\"/></a>"
      ]
    },
    {
      "cell_type": "code",
      "execution_count": 1,
      "metadata": {
        "colab": {
          "base_uri": "https://localhost:8080/"
        },
        "id": "PkzNiqFQj5Hi",
        "outputId": "e06ae31e-516b-426f-936f-679f36e4eca8"
      },
      "outputs": [
        {
          "output_type": "stream",
          "name": "stdout",
          "text": [
            "원본 문자열 ==> Python\n",
            "변환 문자열 ==> pYTHON\n"
          ]
        }
      ],
      "source": [
        "ss = \"Python\"\n",
        "print(\"원본 문자열 ==>\", ss)\n",
        "\n",
        "text = \"\"\n",
        "\n",
        "text += ss[0].lower()\n",
        "text += ss[1].upper()\n",
        "text += ss[2].upper()\n",
        "text += ss[3].upper()\n",
        "text += ss[4].upper()\n",
        "text += ss[5].upper()\n",
        "\n",
        "print(\"변환 문자열 ==> \", end='')\n",
        "print(text)\n"
      ]
    },
    {
      "cell_type": "code",
      "source": [
        "text = \"트와이스\"\n",
        "print(\"원본 문자열 ==>\", text)\n",
        "\n",
        "print(\"반대 문자열 ==> \", end='')\n",
        "print(text[3], end='')\n",
        "print(text[2], end='')\n",
        "print(text[1], end='')\n",
        "print(text[0], end='')"
      ],
      "metadata": {
        "colab": {
          "base_uri": "https://localhost:8080/"
        },
        "id": "wKqao6dxoiWy",
        "outputId": "1232776e-a333-48bb-e72e-e9c9ed4ba317"
      },
      "execution_count": 2,
      "outputs": [
        {
          "output_type": "stream",
          "name": "stdout",
          "text": [
            "원본 문자열 ==> 트와이스\n",
            "반대 문자열 ==> 스이와트"
          ]
        }
      ]
    }
  ]
}