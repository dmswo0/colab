{
  "nbformat": 4,
  "nbformat_minor": 0,
  "metadata": {
    "colab": {
      "provenance": [],
      "authorship_tag": "ABX9TyPBCB5LZ733AmPzjDs8PklT",
      "include_colab_link": true
    },
    "kernelspec": {
      "name": "python3",
      "display_name": "Python 3"
    },
    "language_info": {
      "name": "python"
    }
  },
  "cells": [
    {
      "cell_type": "markdown",
      "metadata": {
        "id": "view-in-github",
        "colab_type": "text"
      },
      "source": [
        "<a href=\"https://colab.research.google.com/github/dmswo0/colab/blob/main/Untitled14.ipynb\" target=\"_parent\"><img src=\"https://colab.research.google.com/assets/colab-badge.svg\" alt=\"Open In Colab\"/></a>"
      ]
    },
    {
      "cell_type": "code",
      "execution_count": 1,
      "metadata": {
        "colab": {
          "base_uri": "https://localhost:8080/"
        },
        "id": "PkzNiqFQj5Hi",
        "outputId": "e06ae31e-516b-426f-936f-679f36e4eca8"
      },
      "outputs": [
        {
          "output_type": "stream",
          "name": "stdout",
          "text": [
            "원본 문자열 ==> Python\n",
            "변환 문자열 ==> pYTHON\n"
          ]
        }
      ],
      "source": [
        "ss = \"Python\"\n",
        "print(\"원본 문자열 ==>\", ss)\n",
        "\n",
        "text = \"\"\n",
        "\n",
        "text += ss[0].lower()\n",
        "text += ss[1].upper()\n",
        "text += ss[2].upper()\n",
        "text += ss[3].upper()\n",
        "text += ss[4].upper()\n",
        "text += ss[5].upper()\n",
        "\n",
        "print(\"변환 문자열 ==> \", end='')\n",
        "print(text)\n"
      ]
    },
    {
      "cell_type": "code",
      "source": [
        "text = \"트와이스\"\n",
        "print(\"원본 문자열 ==>\", text)\n",
        "\n",
        "print(\"반대 문자열 ==> \", end='')\n",
        "print(text[3], end='')\n",
        "print(text[2], end='')\n",
        "print(text[1], end='')\n",
        "print(text[0], end='')"
      ],
      "metadata": {
        "colab": {
          "base_uri": "https://localhost:8080/"
        },
        "id": "wKqao6dxoiWy",
        "outputId": "1232776e-a333-48bb-e72e-e9c9ed4ba317"
      },
      "execution_count": 2,
      "outputs": [
        {
          "output_type": "stream",
          "name": "stdout",
          "text": [
            "원본 문자열 ==> 트와이스\n",
            "반대 문자열 ==> 스이와트"
          ]
        }
      ]
    },
    {
      "cell_type": "code",
      "source": [
        "text1 = input(\"첫 번째 문자열==>\")\n",
        "text2 = input(\"두 번째 문자열==>\")\n",
        "\n",
        "len1 = len(text1)\n",
        "len2 = len(text2)\n",
        "\n",
        "diff = len1 - len2\n",
        "\n",
        "print(\"두 문자열의 길이 차이는\",diff,\"입니다\")"
      ],
      "metadata": {
        "colab": {
          "base_uri": "https://localhost:8080/"
        },
        "id": "KFLROfkuxiJL",
        "outputId": "2227b7e0-8fb9-4902-f9b9-61819cb35c28"
      },
      "execution_count": 3,
      "outputs": [
        {
          "output_type": "stream",
          "name": "stdout",
          "text": [
            "첫 번째 문자열==>난생처음 파이썬\n",
            "두 번째 문자열==>First Python\n",
            "두 문자열의 길이 차이는 -4 입니다\n"
          ]
        }
      ]
    }
  ]
}