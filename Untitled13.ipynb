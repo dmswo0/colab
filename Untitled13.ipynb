{
  "nbformat": 4,
  "nbformat_minor": 0,
  "metadata": {
    "colab": {
      "provenance": [],
      "authorship_tag": "ABX9TyPJWI+NoUf11oaWRdT7e3ud",
      "include_colab_link": true
    },
    "kernelspec": {
      "name": "python3",
      "display_name": "Python 3"
    },
    "language_info": {
      "name": "python"
    }
  },
  "cells": [
    {
      "cell_type": "markdown",
      "metadata": {
        "id": "view-in-github",
        "colab_type": "text"
      },
      "source": [
        "<a href=\"https://colab.research.google.com/github/dmswo0/colab/blob/main/Untitled13.ipynb\" target=\"_parent\"><img src=\"https://colab.research.google.com/assets/colab-badge.svg\" alt=\"Open In Colab\"/></a>"
      ]
    },
    {
      "cell_type": "code",
      "execution_count": null,
      "metadata": {
        "id": "6phNasYsjcfz"
      },
      "outputs": [],
      "source": [
        "파운드(lb)와 킬로그램(kg)을 상호 변환하는 프로그램을 만들어 봅시다.\n",
        "pound = int(input(\"파운드(Ib)를 입력하세요 : \"))\n",
        "kg = pound * 0.453592\n",
        "print(pound, \"파운드(Ib)는\", round(kg,5),\"킬로그램(kg)입니다.\")\n",
        "\n",
        "kg = int(input(\"킬로그램(kg)을 입력하세요 : \"))\n",
        "pound = kg * 2.204623\n",
        "print(kg, \"킬로그램(kg)은0\",round(pound,5),\"파운드(Ib)입니다.\")\n",
        "파운드(Ib)를 입력하세요 : 15\n",
        "15 파운드(Ib)는 6.80388 킬로그램(kg)입니다.\n",
        "킬로그램(kg)을 입력하세요 : 20\n",
        "20 킬로그램(kg)은0 44.09246 파운드(Ib)입니다.\n",
        "\n",
        "두 문자열을 입력받고 두 문자열의 길이 차이를 구하는 프로그램을 작성하시오.\n",
        "text1 = input(\"첫 번째 문자열 ==>\")\n",
        "text2 = input(\"첫 번째 문자열 ==>\")\n",
        "\n",
        "len1 = len(text1)\n",
        "len2 = len(text2)\n",
        "\n",
        "diff = len1 - len2\n",
        "\n",
        "print(\"두 문자열의 길이 차이는\",diff,\"입니다\")\n",
        "첫 번째 문자열 ==>4\n",
        "첫 번째 문자열 ==>1\n",
        "두 문자열의 길이 차이는 0 입니다\n",
        "문자열을 거꾸로 출력하는 프로그램을 작성하시오.\n",
        "---text\n",
        "\n",
        "text = \"트와이스\"\n",
        "print(\"원본 문자열 ==>\",text)\n",
        "\n",
        "print(\"반대 문자열 ==> \", end='')\n",
        "print(text[3], end='')\n",
        "print(text[2], end='')\n",
        "print(text[1], end='')\n",
        "print(text[0], end='')\n",
        "원본 문자열 ==> 트와이스\n",
        "반대 문자열 ==> 스이와트\n",
        "\n",
        "대문자를 소문자로, 소문자는 대문자로 변환하는 프로그램을 작성하시오.\n",
        "ss = \"Python\"\n",
        "print(\"원본 문자열 ==>\",ss)\n",
        "\n",
        "text = \"\"\n",
        "\n",
        "text += ss[0].lower()\n",
        "text += ss[1].upper()\n",
        "text += ss[2].upper()\n",
        "text += ss[3].upper()\n",
        "text += ss[4].upper()\n",
        "text += ss[5].upper()\n",
        "\n",
        "print(\"변환 문자열 ==> \", end='')\n",
        "print(text)\n",
        "원본 문자열 ==> Python\n",
        "변환 문자열 ==> pYTHON"
      ]
    }
  ]
}